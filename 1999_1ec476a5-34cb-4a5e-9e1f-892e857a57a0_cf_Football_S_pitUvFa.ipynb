{
 "cells": [
  {
   "cell_type": "code",
   "execution_count": 193,
   "id": "e09278d4-4d6c-4253-87b3-a8be68d37932",
   "metadata": {},
   "outputs": [],
   "source": [
    "#Import libraries\n",
    "import numpy as np\n",
    "import pandas as pd\n",
    "import matplotlib\n",
    "import matplotlib.pyplot as plt\n",
    "import seaborn as sns\n",
    "import re\n",
    "import pathlib\n",
    "import os\n",
    "\n",
    "import pathlib\n",
    "pathlib.Path().resolve()\n",
    "os.chdir('C:/Users/thanh_cv54t9u/')\n",
    "\n",
    "# Config plot\n",
    "matplotlib.rcParams['figure.figsize'] = (16, 7.5)\n",
    "plt.rcParams['axes.spines.top'] = False\n",
    "plt.rcParams['axes.spines.right'] = False"
   ]
  },
  {
   "cell_type": "markdown",
   "id": "781ad6b7-6f5c-4016-9446-517e879cf3b7",
   "metadata": {},
   "source": [
    "## 1. Load data"
   ]
  },
  {
   "cell_type": "code",
   "execution_count": 194,
   "id": "7feb24f2-3b7d-4e6c-9c94-65a2958b69e4",
   "metadata": {},
   "outputs": [],
   "source": [
    "train = pd.read_csv('Notebook/csv/Sevilla/train.csv')\n",
    "test = pd.read_csv('Notebook/csv/Sevilla/test.csv')"
   ]
  },
  {
   "cell_type": "code",
   "execution_count": 195,
   "id": "946ee540-653d-4a40-959f-eaeb4bb34e52",
   "metadata": {},
   "outputs": [
    {
     "name": "stdout",
     "output_type": "stream",
     "text": [
      "Train size:  (20453, 800)\n",
      "Test size:  (8774, 799)\n"
     ]
    }
   ],
   "source": [
    "print(\"Train size: \", train.shape)\n",
    "print(\"Test size: \", test.shape)"
   ]
  },
  {
   "cell_type": "code",
   "execution_count": 196,
   "id": "5eb27975-4caa-4e46-9b44-309192fdccb2",
   "metadata": {},
   "outputs": [
    {
     "data": {
      "text/html": [
       "<div>\n",
       "<style scoped>\n",
       "    .dataframe tbody tr th:only-of-type {\n",
       "        vertical-align: middle;\n",
       "    }\n",
       "\n",
       "    .dataframe tbody tr th {\n",
       "        vertical-align: top;\n",
       "    }\n",
       "\n",
       "    .dataframe thead th {\n",
       "        text-align: right;\n",
       "    }\n",
       "</style>\n",
       "<table border=\"1\" class=\"dataframe\">\n",
       "  <thead>\n",
       "    <tr style=\"text-align: right;\">\n",
       "      <th></th>\n",
       "      <th>row_id</th>\n",
       "      <th>scout_id</th>\n",
       "      <th>rating_num</th>\n",
       "      <th>winner</th>\n",
       "      <th>team</th>\n",
       "      <th>competitionId</th>\n",
       "      <th>player_position_1</th>\n",
       "      <th>player_position_2</th>\n",
       "      <th>player_height</th>\n",
       "      <th>player_weight</th>\n",
       "      <th>...</th>\n",
       "      <th>team2_defensive_derived_var_10</th>\n",
       "      <th>team2_offensive_derived_var_11</th>\n",
       "      <th>team2_offensive_derived_var_12</th>\n",
       "      <th>team2_offensive_derived_var_13</th>\n",
       "      <th>team2_offensive_derived_var_14</th>\n",
       "      <th>team2_defensive_derived_var_15</th>\n",
       "      <th>team2_offensive_derived_var_16</th>\n",
       "      <th>team2_defensive_derived_var_17</th>\n",
       "      <th>team2_offensive_derived_var_18</th>\n",
       "      <th>team2_offensive_derived_var_19</th>\n",
       "    </tr>\n",
       "  </thead>\n",
       "  <tbody>\n",
       "    <tr>\n",
       "      <th>0</th>\n",
       "      <td>1</td>\n",
       "      <td>13</td>\n",
       "      <td>7.0</td>\n",
       "      <td>winner</td>\n",
       "      <td>team1</td>\n",
       "      <td>8</td>\n",
       "      <td>7.0</td>\n",
       "      <td>7.0</td>\n",
       "      <td>0.317073</td>\n",
       "      <td>0.48</td>\n",
       "      <td>...</td>\n",
       "      <td>0.193658</td>\n",
       "      <td>0.131548</td>\n",
       "      <td>0.097131</td>\n",
       "      <td>0.600944</td>\n",
       "      <td>0.338892</td>\n",
       "      <td>0.347980</td>\n",
       "      <td>0.034157</td>\n",
       "      <td>0.288962</td>\n",
       "      <td>0.310727</td>\n",
       "      <td>0.204925</td>\n",
       "    </tr>\n",
       "    <tr>\n",
       "      <th>1</th>\n",
       "      <td>3</td>\n",
       "      <td>16</td>\n",
       "      <td>6.5</td>\n",
       "      <td>loser</td>\n",
       "      <td>team2</td>\n",
       "      <td>8</td>\n",
       "      <td>3.0</td>\n",
       "      <td>9.0</td>\n",
       "      <td>0.463415</td>\n",
       "      <td>0.42</td>\n",
       "      <td>...</td>\n",
       "      <td>0.190500</td>\n",
       "      <td>0.173697</td>\n",
       "      <td>0.272801</td>\n",
       "      <td>0.605659</td>\n",
       "      <td>0.526761</td>\n",
       "      <td>0.468976</td>\n",
       "      <td>0.054034</td>\n",
       "      <td>0.334962</td>\n",
       "      <td>0.380073</td>\n",
       "      <td>0.295392</td>\n",
       "    </tr>\n",
       "    <tr>\n",
       "      <th>2</th>\n",
       "      <td>4</td>\n",
       "      <td>4</td>\n",
       "      <td>8.5</td>\n",
       "      <td>loser</td>\n",
       "      <td>team1</td>\n",
       "      <td>5</td>\n",
       "      <td>11.0</td>\n",
       "      <td>11.0</td>\n",
       "      <td>0.682927</td>\n",
       "      <td>0.44</td>\n",
       "      <td>...</td>\n",
       "      <td>0.312314</td>\n",
       "      <td>0.250756</td>\n",
       "      <td>0.212631</td>\n",
       "      <td>0.558833</td>\n",
       "      <td>0.686523</td>\n",
       "      <td>0.441749</td>\n",
       "      <td>0.219441</td>\n",
       "      <td>0.414288</td>\n",
       "      <td>0.570757</td>\n",
       "      <td>0.437500</td>\n",
       "    </tr>\n",
       "    <tr>\n",
       "      <th>3</th>\n",
       "      <td>5</td>\n",
       "      <td>13</td>\n",
       "      <td>8.0</td>\n",
       "      <td>loser</td>\n",
       "      <td>team2</td>\n",
       "      <td>4</td>\n",
       "      <td>17.0</td>\n",
       "      <td>17.0</td>\n",
       "      <td>0.682927</td>\n",
       "      <td>0.58</td>\n",
       "      <td>...</td>\n",
       "      <td>0.282556</td>\n",
       "      <td>0.155969</td>\n",
       "      <td>0.206503</td>\n",
       "      <td>0.533002</td>\n",
       "      <td>0.373959</td>\n",
       "      <td>0.527733</td>\n",
       "      <td>0.095201</td>\n",
       "      <td>0.423040</td>\n",
       "      <td>0.330754</td>\n",
       "      <td>0.235558</td>\n",
       "    </tr>\n",
       "    <tr>\n",
       "      <th>4</th>\n",
       "      <td>7</td>\n",
       "      <td>11</td>\n",
       "      <td>3.5</td>\n",
       "      <td>draw</td>\n",
       "      <td>team1</td>\n",
       "      <td>5</td>\n",
       "      <td>10.0</td>\n",
       "      <td>10.0</td>\n",
       "      <td>0.731707</td>\n",
       "      <td>0.70</td>\n",
       "      <td>...</td>\n",
       "      <td>0.450453</td>\n",
       "      <td>0.199050</td>\n",
       "      <td>0.134002</td>\n",
       "      <td>0.688773</td>\n",
       "      <td>0.681724</td>\n",
       "      <td>0.733625</td>\n",
       "      <td>0.128719</td>\n",
       "      <td>0.448360</td>\n",
       "      <td>0.444946</td>\n",
       "      <td>0.312500</td>\n",
       "    </tr>\n",
       "  </tbody>\n",
       "</table>\n",
       "<p>5 rows × 800 columns</p>\n",
       "</div>"
      ],
      "text/plain": [
       "   row_id  scout_id  rating_num  winner   team  competitionId  \\\n",
       "0       1        13         7.0  winner  team1              8   \n",
       "1       3        16         6.5   loser  team2              8   \n",
       "2       4         4         8.5   loser  team1              5   \n",
       "3       5        13         8.0   loser  team2              4   \n",
       "4       7        11         3.5    draw  team1              5   \n",
       "\n",
       "   player_position_1  player_position_2  player_height  player_weight  ...  \\\n",
       "0                7.0                7.0       0.317073           0.48  ...   \n",
       "1                3.0                9.0       0.463415           0.42  ...   \n",
       "2               11.0               11.0       0.682927           0.44  ...   \n",
       "3               17.0               17.0       0.682927           0.58  ...   \n",
       "4               10.0               10.0       0.731707           0.70  ...   \n",
       "\n",
       "   team2_defensive_derived_var_10  team2_offensive_derived_var_11  \\\n",
       "0                        0.193658                        0.131548   \n",
       "1                        0.190500                        0.173697   \n",
       "2                        0.312314                        0.250756   \n",
       "3                        0.282556                        0.155969   \n",
       "4                        0.450453                        0.199050   \n",
       "\n",
       "   team2_offensive_derived_var_12  team2_offensive_derived_var_13  \\\n",
       "0                        0.097131                        0.600944   \n",
       "1                        0.272801                        0.605659   \n",
       "2                        0.212631                        0.558833   \n",
       "3                        0.206503                        0.533002   \n",
       "4                        0.134002                        0.688773   \n",
       "\n",
       "   team2_offensive_derived_var_14  team2_defensive_derived_var_15  \\\n",
       "0                        0.338892                        0.347980   \n",
       "1                        0.526761                        0.468976   \n",
       "2                        0.686523                        0.441749   \n",
       "3                        0.373959                        0.527733   \n",
       "4                        0.681724                        0.733625   \n",
       "\n",
       "   team2_offensive_derived_var_16  team2_defensive_derived_var_17  \\\n",
       "0                        0.034157                        0.288962   \n",
       "1                        0.054034                        0.334962   \n",
       "2                        0.219441                        0.414288   \n",
       "3                        0.095201                        0.423040   \n",
       "4                        0.128719                        0.448360   \n",
       "\n",
       "   team2_offensive_derived_var_18  team2_offensive_derived_var_19  \n",
       "0                        0.310727                        0.204925  \n",
       "1                        0.380073                        0.295392  \n",
       "2                        0.570757                        0.437500  \n",
       "3                        0.330754                        0.235558  \n",
       "4                        0.444946                        0.312500  \n",
       "\n",
       "[5 rows x 800 columns]"
      ]
     },
     "execution_count": 196,
     "metadata": {},
     "output_type": "execute_result"
    }
   ],
   "source": [
    "train.head()"
   ]
  },
  {
   "attachments": {
    "77433b0b-c33d-403c-80e9-fddbad39f012.png": {
     "image/png": "[encoded data removed]"
    }
   },
   "cell_type": "markdown",
   "id": "ef153ef1-093d-432f-94cb-e3d59b1598fa",
   "metadata": {},
   "source": [
    "![image.png](attachment:77433b0b-c33d-403c-80e9-fddbad39f012.png)"
   ]
  },
  {
   "cell_type": "code",
   "execution_count": 197,
   "id": "4f3de9fe-8d5a-4056-a58f-8c752cde0a8c",
   "metadata": {},
   "outputs": [
    {
     "name": "stdout",
     "output_type": "stream",
     "text": [
      "<class 'pandas.core.frame.DataFrame'>\n",
      "RangeIndex: 20453 entries, 0 to 20452\n",
      "Columns: 800 entries, row_id to team2_offensive_derived_var_19\n",
      "dtypes: float64(794), int64(4), object(2)\n",
      "memory usage: 124.8+ MB\n"
     ]
    }
   ],
   "source": [
    "train.info()"
   ]
  },
  {
   "cell_type": "markdown",
   "id": "c406289e-2be9-4502-9f16-57dfc52ceb89",
   "metadata": {},
   "source": [
    "> ## Variables description"
   ]
  },
  {
   "attachments": {
    "10c50d04-0ed7-486a-a0e1-64787d4f9fd5.png": {
     "image/png": "[encoded data removed]"
    }
   },
   "cell_type": "markdown",
   "id": "19f24295-3d83-44c2-a373-fc0e6820b5ec",
   "metadata": {},
   "source": [
    "![image.png](attachment:10c50d04-0ed7-486a-a0e1-64787d4f9fd5.png)"
   ]
  },
  {
   "cell_type": "markdown",
   "id": "797a7aa6-f5a7-4add-9202-621b74b3e4f7",
   "metadata": {},
   "source": [
    "# 2. Clean data"
   ]
  },
  {
   "cell_type": "markdown",
   "id": "0c2d7118-c3a8-45d7-9f0d-9eda1f66c093",
   "metadata": {},
   "source": [
    "> Set index to Row_id"
   ]
  },
  {
   "cell_type": "code",
   "execution_count": 198,
   "id": "3b9b3a19-ad15-434c-82be-df1c17fae207",
   "metadata": {},
   "outputs": [],
   "source": [
    "train = train.set_index(\"row_id\")\n",
    "test = test.set_index(\"row_id\")"
   ]
  },
  {
   "cell_type": "markdown",
   "id": "1cbc3cd1-b16c-44be-bfec-1ab7a53c2dbb",
   "metadata": {},
   "source": [
    "> Are null values?"
   ]
  },
  {
   "cell_type": "code",
   "execution_count": 199,
   "id": "be685365-eb9f-467c-9309-193740b07a5d",
   "metadata": {},
   "outputs": [
    {
     "data": {
      "text/plain": [
       "False"
      ]
     },
     "execution_count": 199,
     "metadata": {},
     "output_type": "execute_result"
    }
   ],
   "source": [
    "# Show null values of **rating_num**\n",
    "train[\"rating_num\"].isnull().any()"
   ]
  },
  {
   "cell_type": "code",
   "execution_count": 200,
   "id": "6641c4fb-804b-4693-9d18-8465742b7123",
   "metadata": {},
   "outputs": [
    {
     "data": {
      "text/plain": [
       "<AxesSubplot:>"
      ]
     },
     "execution_count": 200,
     "metadata": {},
     "output_type": "execute_result"
    },
    {
     "data": {
      "image/png": "[encoded data removed]",
      "text/plain": [
       "<Figure size 1800x864 with 1 Axes>"
      ]
     },
     "metadata": {
      "needs_background": "light"
     },
     "output_type": "display_data"
    }
   ],
   "source": [
    "fig = plt.figure(figsize=(25,12))\n",
    "# Null values of feature vars\n",
    "s = train.isnull().sum()\n",
    "\n",
    "# Calculate pct of null values\n",
    "s = s / len(train) * 100\n",
    "s = s.sort_values(ascending=False).round(2)\n",
    "\n",
    "# plot 50 field which have highest pct of null values\n",
    "s[:50].plot(kind=\"bar\")"
   ]
  },
  {
   "cell_type": "markdown",
   "id": "dc15b4d0-3a78-4092-abce-f7d0c608b157",
   "metadata": {},
   "source": [
    "- Notice that many fields like \"team1_other_raw_var_31\", \"team1_other_raw_var_40\" have **all null values** or **have a very high rate of null values (> 90%)** , we need to drop them!"
   ]
  },
  {
   "cell_type": "code",
   "execution_count": 201,
   "id": "9b355d02-0397-4e2b-89c0-4f0d805e8d66",
   "metadata": {},
   "outputs": [
    {
     "name": "stdout",
     "output_type": "stream",
     "text": [
      "Train size:  (20453, 799)\n",
      "Test size:  (8774, 798)\n"
     ]
    }
   ],
   "source": [
    "# Before\n",
    "print(\"Train size: \", train.shape)\n",
    "print(\"Test size: \", test.shape)"
   ]
  },
  {
   "cell_type": "code",
   "execution_count": 202,
   "id": "78b49385-29b2-487b-b138-5770d12836eb",
   "metadata": {},
   "outputs": [],
   "source": [
    "to_drop = s[s>90].index.values\n",
    "# Drop\n",
    "train = train.drop(columns=to_drop)\n",
    "test = test.drop(columns=to_drop)"
   ]
  },
  {
   "cell_type": "code",
   "execution_count": 203,
   "id": "5e4dab2d-9faa-4832-a16d-f2583d40ad61",
   "metadata": {},
   "outputs": [
    {
     "name": "stdout",
     "output_type": "stream",
     "text": [
      "Train size:  (20453, 756)\n",
      "Test size:  (8774, 755)\n"
     ]
    }
   ],
   "source": [
    "# Check the size after\n",
    "print(\"Train size: \", train.shape)\n",
    "print(\"Test size: \", test.shape)"
   ]
  },
  {
   "cell_type": "code",
   "execution_count": 204,
   "id": "18cee294-48a1-4beb-9f6a-dc392f7cecf9",
   "metadata": {},
   "outputs": [
    {
     "name": "stdout",
     "output_type": "stream",
     "text": [
      "43\n"
     ]
    }
   ],
   "source": [
    "print(len(to_drop))"
   ]
  },
  {
   "cell_type": "markdown",
   "id": "ad508afc-5c3b-4a80-a711-710fde63e2e1",
   "metadata": {},
   "source": [
    "-> Roughly 40 fileds have been dropped after this step!"
   ]
  },
  {
   "cell_type": "code",
   "execution_count": 205,
   "id": "d69a565a-7743-4e9a-a803-ec692dc3c1f8",
   "metadata": {},
   "outputs": [],
   "source": [
    "#print(to_drop)"
   ]
  },
  {
   "cell_type": "markdown",
   "id": "bd382a30-f157-4995-bd93-50bfdee407c6",
   "metadata": {},
   "source": [
    "# 3. Explore Data"
   ]
  },
  {
   "cell_type": "markdown",
   "id": "70941d07-b5f3-439c-8ff2-fd1e009fe5ac",
   "metadata": {},
   "source": [
    "> ### 3.1 Target variable - rating_num"
   ]
  },
  {
   "cell_type": "code",
   "execution_count": 206,
   "id": "f390598d-a583-44a7-b7ea-a17e2bf53d59",
   "metadata": {},
   "outputs": [
    {
     "data": {
      "text/plain": [
       "Text(0.5, 1.0, 'Count plot of rating_num')"
      ]
     },
     "execution_count": 206,
     "metadata": {},
     "output_type": "execute_result"
    },
    {
     "data": {
      "image/png": "[encoded data removed]",
      "text/plain": [
       "<Figure size 1152x540 with 1 Axes>"
      ]
     },
     "metadata": {
      "needs_background": "light"
     },
     "output_type": "display_data"
    }
   ],
   "source": [
    "sns.countplot(data=train, x=\"rating_num\", color=\"#33A5FF\")\n",
    "plt.title(\"Count plot of rating_num\")"
   ]
  },
  {
   "cell_type": "markdown",
   "id": "e5ea4ee3-da80-47f2-a49b-d56584a6b777",
   "metadata": {},
   "source": [
    "> ### 3.2 Categorical variables"
   ]
  },
  {
   "cell_type": "code",
   "execution_count": 207,
   "id": "2c711474-18bc-4621-b6c5-6abdc8c3aeff",
   "metadata": {},
   "outputs": [],
   "source": [
    "features = train.drop(\"rating_num\", axis=1).columns.values\n",
    "\n",
    "categorical_vars = [\"scout_id\", \"winner\", \"competitionId\",\n",
    "                    \"team\", \"team1_system_id\", \"team2_system_id\",\n",
    "                    \"player_position_1\", \"player_position_2\"\n",
    "                   ]"
   ]
  },
  {
   "cell_type": "code",
   "execution_count": 208,
   "id": "ce93fc3b-2840-4305-8c24-e6a2f6780900",
   "metadata": {},
   "outputs": [
    {
     "data": {
      "text/html": [
       "<div>\n",
       "<style scoped>\n",
       "    .dataframe tbody tr th:only-of-type {\n",
       "        vertical-align: middle;\n",
       "    }\n",
       "\n",
       "    .dataframe tbody tr th {\n",
       "        vertical-align: top;\n",
       "    }\n",
       "\n",
       "    .dataframe thead th {\n",
       "        text-align: right;\n",
       "    }\n",
       "</style>\n",
       "<table border=\"1\" class=\"dataframe\">\n",
       "  <thead>\n",
       "    <tr style=\"text-align: right;\">\n",
       "      <th></th>\n",
       "      <th>winner</th>\n",
       "      <th>rating_num</th>\n",
       "    </tr>\n",
       "  </thead>\n",
       "  <tbody>\n",
       "    <tr>\n",
       "      <th>0</th>\n",
       "      <td>draw</td>\n",
       "      <td>6.904094</td>\n",
       "    </tr>\n",
       "    <tr>\n",
       "      <th>1</th>\n",
       "      <td>loser</td>\n",
       "      <td>6.431233</td>\n",
       "    </tr>\n",
       "    <tr>\n",
       "      <th>2</th>\n",
       "      <td>winner</td>\n",
       "      <td>7.213509</td>\n",
       "    </tr>\n",
       "  </tbody>\n",
       "</table>\n",
       "</div>"
      ],
      "text/plain": [
       "   winner  rating_num\n",
       "0    draw    6.904094\n",
       "1   loser    6.431233\n",
       "2  winner    7.213509"
      ]
     },
     "execution_count": 208,
     "metadata": {},
     "output_type": "execute_result"
    }
   ],
   "source": [
    "train.groupby(by=[\"winner\"])[\"rating_num\"].mean().reset_index()"
   ]
  },
  {
   "cell_type": "code",
   "execution_count": 209,
   "id": "647096ce-840d-408b-990a-5040bd00d36c",
   "metadata": {},
   "outputs": [
    {
     "data": {
      "image/png": "[encoded data removed]",
      "text/plain": [
       "<Figure size 1152x540 with 1 Axes>"
      ]
     },
     "metadata": {
      "needs_background": "light"
     },
     "output_type": "display_data"
    },
    {
     "data": {
      "image/png": "[encoded data removed]",
      "text/plain": [
       "<Figure size 1152x540 with 1 Axes>"
      ]
     },
     "metadata": {
      "needs_background": "light"
     },
     "output_type": "display_data"
    },
    {
     "data": {
      "image/png": "[encoded data removed]",
      "text/plain": [
       "<Figure size 1152x540 with 1 Axes>"
      ]
     },
     "metadata": {
      "needs_background": "light"
     },
     "output_type": "display_data"
    },
    {
     "data": {
      "image/png": "[encoded data removed]",
      "text/plain": [
       "<Figure size 1152x540 with 1 Axes>"
      ]
     },
     "metadata": {
      "needs_background": "light"
     },
     "output_type": "display_data"
    },
    {
     "data": {
      "image/png": "[encoded data removed]",
      "text/plain": [
       "<Figure size 1152x540 with 1 Axes>"
      ]
     },
     "metadata": {
      "needs_background": "light"
     },
     "output_type": "display_data"
    },
    {
     "data": {
      "image/png": "[encoded data removed]",
      "text/plain": [
       "<Figure size 1152x540 with 1 Axes>"
      ]
     },
     "metadata": {
      "needs_background": "light"
     },
     "output_type": "display_data"
    },
    {
     "data": {
      "image/png": "[encoded data removed]",
      "text/plain": [
       "<Figure size 1152x540 with 1 Axes>"
      ]
     },
     "metadata": {
      "needs_background": "light"
     },
     "output_type": "display_data"
    },
    {
     "data": {
      "image/png": "[encoded data removed]",
      "text/plain": [
       "<Figure size 1152x540 with 1 Axes>"
      ]
     },
     "metadata": {
      "needs_background": "light"
     },
     "output_type": "display_data"
    }
   ],
   "source": [
    "for i in categorical_vars:\n",
    "    gr=train.groupby(by=i)[\"rating_num\"].mean().reset_index()\n",
    "    sns.barplot(data=gr, x=i, y=\"rating_num\", color=\"#33A5FF\")\n",
    "    plt.title(\"Average rating_num by \"+i)\n",
    "    plt.xticks(rotation=0)\n",
    "    plt.show()"
   ]
  },
  {
   "cell_type": "markdown",
   "id": "9cca8c81-c68f-48bf-b59a-8cabbfd83351",
   "metadata": {},
   "source": [
    "> ### 3.3 Numerical variables"
   ]
  },
  {
   "cell_type": "code",
   "execution_count": 210,
   "id": "fdab2aa2-ea67-488e-9bbb-1848e575823b",
   "metadata": {},
   "outputs": [
    {
     "data": {
      "text/html": [
       "<div>\n",
       "<style scoped>\n",
       "    .dataframe tbody tr th:only-of-type {\n",
       "        vertical-align: middle;\n",
       "    }\n",
       "\n",
       "    .dataframe tbody tr th {\n",
       "        vertical-align: top;\n",
       "    }\n",
       "\n",
       "    .dataframe thead th {\n",
       "        text-align: right;\n",
       "    }\n",
       "</style>\n",
       "<table border=\"1\" class=\"dataframe\">\n",
       "  <thead>\n",
       "    <tr style=\"text-align: right;\">\n",
       "      <th></th>\n",
       "      <th>scout_id</th>\n",
       "      <th>rating_num</th>\n",
       "      <th>competitionId</th>\n",
       "      <th>player_position_1</th>\n",
       "      <th>player_position_2</th>\n",
       "      <th>player_height</th>\n",
       "      <th>player_weight</th>\n",
       "      <th>player_general_var_0</th>\n",
       "      <th>player_general_var_1</th>\n",
       "      <th>player_general_var_2</th>\n",
       "      <th>...</th>\n",
       "      <th>team2_defensive_derived_var_10</th>\n",
       "      <th>team2_offensive_derived_var_11</th>\n",
       "      <th>team2_offensive_derived_var_12</th>\n",
       "      <th>team2_offensive_derived_var_13</th>\n",
       "      <th>team2_offensive_derived_var_14</th>\n",
       "      <th>team2_defensive_derived_var_15</th>\n",
       "      <th>team2_offensive_derived_var_16</th>\n",
       "      <th>team2_defensive_derived_var_17</th>\n",
       "      <th>team2_offensive_derived_var_18</th>\n",
       "      <th>team2_offensive_derived_var_19</th>\n",
       "    </tr>\n",
       "  </thead>\n",
       "  <tbody>\n",
       "    <tr>\n",
       "      <th>count</th>\n",
       "      <td>20453.00</td>\n",
       "      <td>20453.00</td>\n",
       "      <td>20453.00</td>\n",
       "      <td>20378.00</td>\n",
       "      <td>20378.00</td>\n",
       "      <td>20451.00</td>\n",
       "      <td>20451.00</td>\n",
       "      <td>20453.00</td>\n",
       "      <td>20453.00</td>\n",
       "      <td>20453.00</td>\n",
       "      <td>...</td>\n",
       "      <td>19026.00</td>\n",
       "      <td>20332.00</td>\n",
       "      <td>19019.00</td>\n",
       "      <td>19021.00</td>\n",
       "      <td>19026.00</td>\n",
       "      <td>19026.00</td>\n",
       "      <td>19026.00</td>\n",
       "      <td>19026.00</td>\n",
       "      <td>19026.00</td>\n",
       "      <td>19026.00</td>\n",
       "    </tr>\n",
       "    <tr>\n",
       "      <th>mean</th>\n",
       "      <td>10.02</td>\n",
       "      <td>6.89</td>\n",
       "      <td>7.31</td>\n",
       "      <td>7.61</td>\n",
       "      <td>8.01</td>\n",
       "      <td>0.50</td>\n",
       "      <td>0.46</td>\n",
       "      <td>0.03</td>\n",
       "      <td>0.00</td>\n",
       "      <td>0.09</td>\n",
       "      <td>...</td>\n",
       "      <td>0.35</td>\n",
       "      <td>0.18</td>\n",
       "      <td>0.25</td>\n",
       "      <td>0.58</td>\n",
       "      <td>0.48</td>\n",
       "      <td>0.50</td>\n",
       "      <td>0.11</td>\n",
       "      <td>0.42</td>\n",
       "      <td>0.42</td>\n",
       "      <td>0.33</td>\n",
       "    </tr>\n",
       "    <tr>\n",
       "      <th>std</th>\n",
       "      <td>5.71</td>\n",
       "      <td>1.85</td>\n",
       "      <td>2.35</td>\n",
       "      <td>5.06</td>\n",
       "      <td>4.91</td>\n",
       "      <td>0.16</td>\n",
       "      <td>0.14</td>\n",
       "      <td>0.08</td>\n",
       "      <td>0.06</td>\n",
       "      <td>0.23</td>\n",
       "      <td>...</td>\n",
       "      <td>0.14</td>\n",
       "      <td>0.06</td>\n",
       "      <td>0.14</td>\n",
       "      <td>0.15</td>\n",
       "      <td>0.16</td>\n",
       "      <td>0.14</td>\n",
       "      <td>0.06</td>\n",
       "      <td>0.10</td>\n",
       "      <td>0.12</td>\n",
       "      <td>0.14</td>\n",
       "    </tr>\n",
       "    <tr>\n",
       "      <th>min</th>\n",
       "      <td>1.00</td>\n",
       "      <td>0.00</td>\n",
       "      <td>4.00</td>\n",
       "      <td>1.00</td>\n",
       "      <td>1.00</td>\n",
       "      <td>0.02</td>\n",
       "      <td>0.04</td>\n",
       "      <td>0.00</td>\n",
       "      <td>0.00</td>\n",
       "      <td>0.00</td>\n",
       "      <td>...</td>\n",
       "      <td>0.00</td>\n",
       "      <td>0.00</td>\n",
       "      <td>0.00</td>\n",
       "      <td>0.00</td>\n",
       "      <td>0.00</td>\n",
       "      <td>0.05</td>\n",
       "      <td>0.00</td>\n",
       "      <td>0.04</td>\n",
       "      <td>0.00</td>\n",
       "      <td>0.00</td>\n",
       "    </tr>\n",
       "    <tr>\n",
       "      <th>25%</th>\n",
       "      <td>3.00</td>\n",
       "      <td>6.00</td>\n",
       "      <td>5.00</td>\n",
       "      <td>3.00</td>\n",
       "      <td>3.00</td>\n",
       "      <td>0.39</td>\n",
       "      <td>0.34</td>\n",
       "      <td>0.00</td>\n",
       "      <td>0.00</td>\n",
       "      <td>0.00</td>\n",
       "      <td>...</td>\n",
       "      <td>0.25</td>\n",
       "      <td>0.16</td>\n",
       "      <td>0.15</td>\n",
       "      <td>0.49</td>\n",
       "      <td>0.37</td>\n",
       "      <td>0.41</td>\n",
       "      <td>0.07</td>\n",
       "      <td>0.36</td>\n",
       "      <td>0.33</td>\n",
       "      <td>0.24</td>\n",
       "    </tr>\n",
       "    <tr>\n",
       "      <th>50%</th>\n",
       "      <td>12.00</td>\n",
       "      <td>6.50</td>\n",
       "      <td>7.00</td>\n",
       "      <td>7.00</td>\n",
       "      <td>8.00</td>\n",
       "      <td>0.51</td>\n",
       "      <td>0.44</td>\n",
       "      <td>0.00</td>\n",
       "      <td>0.00</td>\n",
       "      <td>0.00</td>\n",
       "      <td>...</td>\n",
       "      <td>0.34</td>\n",
       "      <td>0.18</td>\n",
       "      <td>0.24</td>\n",
       "      <td>0.59</td>\n",
       "      <td>0.48</td>\n",
       "      <td>0.50</td>\n",
       "      <td>0.10</td>\n",
       "      <td>0.42</td>\n",
       "      <td>0.42</td>\n",
       "      <td>0.32</td>\n",
       "    </tr>\n",
       "    <tr>\n",
       "      <th>75%</th>\n",
       "      <td>15.00</td>\n",
       "      <td>8.00</td>\n",
       "      <td>9.00</td>\n",
       "      <td>11.00</td>\n",
       "      <td>11.00</td>\n",
       "      <td>0.61</td>\n",
       "      <td>0.54</td>\n",
       "      <td>0.00</td>\n",
       "      <td>0.00</td>\n",
       "      <td>0.00</td>\n",
       "      <td>...</td>\n",
       "      <td>0.43</td>\n",
       "      <td>0.22</td>\n",
       "      <td>0.34</td>\n",
       "      <td>0.69</td>\n",
       "      <td>0.60</td>\n",
       "      <td>0.59</td>\n",
       "      <td>0.15</td>\n",
       "      <td>0.49</td>\n",
       "      <td>0.51</td>\n",
       "      <td>0.43</td>\n",
       "    </tr>\n",
       "    <tr>\n",
       "      <th>max</th>\n",
       "      <td>26.00</td>\n",
       "      <td>10.00</td>\n",
       "      <td>15.00</td>\n",
       "      <td>23.00</td>\n",
       "      <td>23.00</td>\n",
       "      <td>0.98</td>\n",
       "      <td>1.00</td>\n",
       "      <td>1.00</td>\n",
       "      <td>1.00</td>\n",
       "      <td>0.98</td>\n",
       "      <td>...</td>\n",
       "      <td>0.96</td>\n",
       "      <td>1.00</td>\n",
       "      <td>1.00</td>\n",
       "      <td>1.00</td>\n",
       "      <td>0.99</td>\n",
       "      <td>0.98</td>\n",
       "      <td>1.00</td>\n",
       "      <td>1.00</td>\n",
       "      <td>1.00</td>\n",
       "      <td>1.00</td>\n",
       "    </tr>\n",
       "  </tbody>\n",
       "</table>\n",
       "<p>8 rows × 754 columns</p>\n",
       "</div>"
      ],
      "text/plain": [
       "       scout_id  rating_num  competitionId  player_position_1  \\\n",
       "count  20453.00    20453.00       20453.00           20378.00   \n",
       "mean      10.02        6.89           7.31               7.61   \n",
       "std        5.71        1.85           2.35               5.06   \n",
       "min        1.00        0.00           4.00               1.00   \n",
       "25%        3.00        6.00           5.00               3.00   \n",
       "50%       12.00        6.50           7.00               7.00   \n",
       "75%       15.00        8.00           9.00              11.00   \n",
       "max       26.00       10.00          15.00              23.00   \n",
       "\n",
       "       player_position_2  player_height  player_weight  player_general_var_0  \\\n",
       "count           20378.00       20451.00       20451.00              20453.00   \n",
       "mean                8.01           0.50           0.46                  0.03   \n",
       "std                 4.91           0.16           0.14                  0.08   \n",
       "min                 1.00           0.02           0.04                  0.00   \n",
       "25%                 3.00           0.39           0.34                  0.00   \n",
       "50%                 8.00           0.51           0.44                  0.00   \n",
       "75%                11.00           0.61           0.54                  0.00   \n",
       "max                23.00           0.98           1.00                  1.00   \n",
       "\n",
       "       player_general_var_1  player_general_var_2  ...  \\\n",
       "count              20453.00              20453.00  ...   \n",
       "mean                   0.00                  0.09  ...   \n",
       "std                    0.06                  0.23  ...   \n",
       "min                    0.00                  0.00  ...   \n",
       "25%                    0.00                  0.00  ...   \n",
       "50%                    0.00                  0.00  ...   \n",
       "75%                    0.00                  0.00  ...   \n",
       "max                    1.00                  0.98  ...   \n",
       "\n",
       "       team2_defensive_derived_var_10  team2_offensive_derived_var_11  \\\n",
       "count                        19026.00                        20332.00   \n",
       "mean                             0.35                            0.18   \n",
       "std                              0.14                            0.06   \n",
       "min                              0.00                            0.00   \n",
       "25%                              0.25                            0.16   \n",
       "50%                              0.34                            0.18   \n",
       "75%                              0.43                            0.22   \n",
       "max                              0.96                            1.00   \n",
       "\n",
       "       team2_offensive_derived_var_12  team2_offensive_derived_var_13  \\\n",
       "count                        19019.00                        19021.00   \n",
       "mean                             0.25                            0.58   \n",
       "std                              0.14                            0.15   \n",
       "min                              0.00                            0.00   \n",
       "25%                              0.15                            0.49   \n",
       "50%                              0.24                            0.59   \n",
       "75%                              0.34                            0.69   \n",
       "max                              1.00                            1.00   \n",
       "\n",
       "       team2_offensive_derived_var_14  team2_defensive_derived_var_15  \\\n",
       "count                        19026.00                        19026.00   \n",
       "mean                             0.48                            0.50   \n",
       "std                              0.16                            0.14   \n",
       "min                              0.00                            0.05   \n",
       "25%                              0.37                            0.41   \n",
       "50%                              0.48                            0.50   \n",
       "75%                              0.60                            0.59   \n",
       "max                              0.99                            0.98   \n",
       "\n",
       "       team2_offensive_derived_var_16  team2_defensive_derived_var_17  \\\n",
       "count                        19026.00                        19026.00   \n",
       "mean                             0.11                            0.42   \n",
       "std                              0.06                            0.10   \n",
       "min                              0.00                            0.04   \n",
       "25%                              0.07                            0.36   \n",
       "50%                              0.10                            0.42   \n",
       "75%                              0.15                            0.49   \n",
       "max                              1.00                            1.00   \n",
       "\n",
       "       team2_offensive_derived_var_18  team2_offensive_derived_var_19  \n",
       "count                        19026.00                        19026.00  \n",
       "mean                             0.42                            0.33  \n",
       "std                              0.12                            0.14  \n",
       "min                              0.00                            0.00  \n",
       "25%                              0.33                            0.24  \n",
       "50%                              0.42                            0.32  \n",
       "75%                              0.51                            0.43  \n",
       "max                              1.00                            1.00  \n",
       "\n",
       "[8 rows x 754 columns]"
      ]
     },
     "execution_count": 210,
     "metadata": {},
     "output_type": "execute_result"
    }
   ],
   "source": [
    "train.describe().round(2)"
   ]
  },
  {
   "cell_type": "markdown",
   "id": "c9df569a-4a27-454d-aa01-83f73a42ecbf",
   "metadata": {},
   "source": [
    "-> Almost all features are **normalized to range(0,1)** (based on the min value and max value of each features) "
   ]
  },
  {
   "cell_type": "code",
   "execution_count": 211,
   "id": "75b7915f-0213-4e25-b8dc-567d15f7897e",
   "metadata": {},
   "outputs": [
    {
     "data": {
      "text/plain": [
       "<AxesSubplot:xlabel='player_weight', ylabel='player_height'>"
      ]
     },
     "execution_count": 211,
     "metadata": {},
     "output_type": "execute_result"
    },
    {
     "data": {
      "image/png": "[encoded data removed]",
      "text/plain": [
       "<Figure size 1152x540 with 1 Axes>"
      ]
     },
     "metadata": {
      "needs_background": "light"
     },
     "output_type": "display_data"
    }
   ],
   "source": [
    "# Height & weight by rating_num?\n",
    "sns.scatterplot(data=train, x=\"player_weight\", y=\"player_height\", hue=\"rating_num\",\n",
    "                palette = sns.color_palette(\"Blues\", as_cmap=True)\n",
    ")"
   ]
  },
  {
   "cell_type": "code",
   "execution_count": 212,
   "id": "add9dd66-0081-4361-893c-ecb3c9b92e34",
   "metadata": {},
   "outputs": [],
   "source": [
    "numerical_vars = features[~np.isin(features, categorical_vars)].tolist()"
   ]
  },
  {
   "cell_type": "markdown",
   "id": "dc7cc0a3-a3ee-4686-8b67-a3018a8a7661",
   "metadata": {},
   "source": [
    "**Variables that encode player properties or performance** are grouped according to the following scheme:    \n",
    "  \n",
    "player_(offensive/defensive/positional/physical/general/other)_(derived/raw/ratio)_var_#number  \n",
    "\n",
    "player shows if the variable refers to a player property  \n",
    "(offensive/defensive/positional/physical/general/other) refers to the nature of the variable  \n",
    "(derived/raw/ratio):  \n",
    "raw: variable empirically measured  \n",
    "derived: variable defined based on two or more variables and not empirically measured  \n",
    "ratio: variable defined as a ratio of two raw variables  \n",
    "\n",
    "**Variables that encode team properties or performance** are grouped according to the following scheme:  \n",
    "\n",
    "team(1/2)_(offensive/defensive/other)_(derived/raw/ratio)_var_#number  \n",
    "\n",
    "team(1/2) shows if the variable refers to a team1 or team2 property  \n",
    "(offensive/defensive/other) refers to the nature of the variable  \n",
    "(derived/raw/ratio):  \n",
    "raw: variable empirically measured  \n",
    "derived: variable defined based on two or more variables and not empirically measured   \n",
    "ratio: variable defined as a ratio of two raw variables   "
   ]
  },
  {
   "cell_type": "markdown",
   "id": "01c8966c-f1fd-49ed-bb64-875981b87cd8",
   "metadata": {},
   "source": [
    "#### New features\n",
    "I'm trying to create some new features by apply **np.sum** among each specific group of features.."
   ]
  },
  {
   "cell_type": "markdown",
   "id": "1c861373-15bb-41c7-9624-23c2ce894140",
   "metadata": {},
   "source": [
    "> ### 3.3.1 - Player properties and performance "
   ]
  },
  {
   "cell_type": "code",
   "execution_count": 213,
   "id": "a83f0e0e-4ee1-4be7-8c25-9c20bc2a025e",
   "metadata": {},
   "outputs": [],
   "source": [
    "player_vars = list(filter(lambda v: re.match('player_', v), numerical_vars))"
   ]
  },
  {
   "cell_type": "code",
   "execution_count": 214,
   "id": "d58dd333-7b17-44cd-9cc6-629964ee0970",
   "metadata": {},
   "outputs": [],
   "source": [
    "# Properties\n",
    "player_offensive = list(filter(lambda v: re.search(\"_offensive\", v), player_vars))\n",
    "player_defensive = list(filter(lambda v: re.search(\"_defensive\", v), player_vars))\n",
    "player_positional = list(filter(lambda v: re.search(\"_positional\", v), player_vars))\n",
    "player_physical = list(filter(lambda v: re.search(\"_physical\", v), player_vars))\n",
    "player_general = list(filter(lambda v: re.search(\"_general\", v), player_vars))\n",
    "player_other = list(filter(lambda v: re.search(\"_other\", v), player_vars))\n",
    "\n",
    "player_raw = list(filter(lambda v: re.search(\"_raw\", v), player_vars))\n",
    "player_derived = list(filter(lambda v: re.search(\"_derived\", v), player_vars))\n",
    "player_ratio = list(filter(lambda v: re.search(\"_ratio\", v), player_vars))"
   ]
  },
  {
   "cell_type": "code",
   "execution_count": 215,
   "id": "93506273-17c7-41e4-9857-15ebfcf84c52",
   "metadata": {},
   "outputs": [
    {
     "name": "stdout",
     "output_type": "stream",
     "text": [
      "96 72 40 49 16 164\n",
      "199 162 70\n"
     ]
    }
   ],
   "source": [
    "print(len(player_offensive), len(player_defensive), len(player_positional), len(player_physical),\n",
    "      len(player_general), len(player_other))\n",
    "\n",
    "print(len(player_raw), len(player_derived),len(player_ratio))"
   ]
  },
  {
   "cell_type": "code",
   "execution_count": 216,
   "id": "97163773-74a6-4c4a-80d6-88404cd86c0b",
   "metadata": {},
   "outputs": [],
   "source": [
    "properties = [player_offensive, player_defensive,player_positional,player_physical,player_general,player_other]\n",
    "measures = [player_raw, player_derived, player_ratio]"
   ]
  },
  {
   "cell_type": "code",
   "execution_count": 217,
   "id": "dc9a49d0-5866-4b4a-a044-9ee0600e6c95",
   "metadata": {},
   "outputs": [],
   "source": [
    "def combine_player_vars(df):\n",
    "    for x in properties:\n",
    "        for y in measures:\n",
    "            combine = np.array(x)[np.isin(x, y)]\n",
    "            if len(combine)>0:\n",
    "                name = combine[0].split('_')[:-2]\n",
    "                name.append(\"total\")\n",
    "                name = \"_\".join(name)\n",
    "                df[name] = df.loc[:, combine].replace(np.nan,0).apply(func=np.sum, axis=1)\n",
    "    \n",
    "    general = ['player_general_var_0', 'player_general_var_1',\n",
    "       'player_general_var_2', 'player_general_var_3',\n",
    "       'player_general_var_4', 'player_general_var_5']\n",
    "        \n",
    "    df[\"player_general_total\"] = df.loc[:, general].replace(np.nan,0).apply(func=np.sum, axis=1)\n",
    "    return df"
   ]
  },
  {
   "cell_type": "code",
   "execution_count": 218,
   "id": "17340a8d-d225-41b4-8a3d-a35690755259",
   "metadata": {},
   "outputs": [
    {
     "name": "stdout",
     "output_type": "stream",
     "text": [
      "(20453, 773) (8774, 772)\n"
     ]
    }
   ],
   "source": [
    "train_ = combine_player_vars(train)\n",
    "test_ = combine_player_vars(test)"
   ]
  },
  {
   "cell_type": "code",
   "execution_count": 268,
   "id": "08ee5c3d-feb4-433d-b30e-e33dc8a4f712",
   "metadata": {},
   "outputs": [
    {
     "name": "stdout",
     "output_type": "stream",
     "text": [
      "(20453, 779) (8774, 778)\n"
     ]
    }
   ],
   "source": [
    "#\n",
    "train_new = train_.copy()\n",
    "test_new = test_.copy()\n",
    "\n",
    "print(train_new.shape, test_new.shape)"
   ]
  },
  {
   "cell_type": "markdown",
   "id": "aadb29ad-f33b-4995-b929-c78bcc2a0e46",
   "metadata": {},
   "source": [
    "> ### 3.3.2 - Team properties and performance "
   ]
  },
  {
   "cell_type": "code",
   "execution_count": 269,
   "id": "a117d91e-d2fa-4ecf-819d-4664c415916e",
   "metadata": {},
   "outputs": [
    {
     "name": "stdout",
     "output_type": "stream",
     "text": [
      "308\n"
     ]
    }
   ],
   "source": [
    "team_vars = list(filter(lambda v: re.match('team', v), numerical_vars))\n",
    "print(len(team_vars))"
   ]
  },
  {
   "cell_type": "code",
   "execution_count": 270,
   "id": "e6f0a911-0cfc-41be-91be-4da44d2fa32b",
   "metadata": {},
   "outputs": [],
   "source": [
    "team1_vars = list(filter(lambda v: re.search(\"team1_\", v), team_vars))\n",
    "team2_vars = list(filter(lambda v: re.search(\"team2_\", v), team_vars))\n",
    "\n",
    "team_raw = list(filter(lambda v: re.search(\"_raw\", v), team_vars))\n",
    "team_derived = list(filter(lambda v: re.search(\"_derived\", v), team_vars))\n",
    "team_ratio = list(filter(lambda v: re.search(\"_ratio\", v), team_vars))"
   ]
  },
  {
   "cell_type": "code",
   "execution_count": 271,
   "id": "fef07b43-1507-4b35-9c7b-c96cbb545dc8",
   "metadata": {},
   "outputs": [],
   "source": [
    "teams = [team1_vars, team2_vars]\n",
    "measures = [team_raw, team_derived, team_ratio]"
   ]
  },
  {
   "cell_type": "code",
   "execution_count": 272,
   "id": "62132d5c-0875-4848-9fa9-c18408eadb76",
   "metadata": {},
   "outputs": [],
   "source": [
    "def combine_team_vars(df):\n",
    "    for x in teams:\n",
    "        for y in measures:\n",
    "            combine = np.array(x)[np.isin(x, y)]\n",
    "            if len(combine)>0:\n",
    "                name = combine[0].split('_')[:-2]\n",
    "                name.append(\"total\")\n",
    "                name = \"_\".join(name)\n",
    "                df[name] = df.loc[:, combine].replace(np.nan,0).apply(func=np.sum, axis=1)\n",
    "\n",
    "    return df"
   ]
  },
  {
   "cell_type": "code",
   "execution_count": 223,
   "id": "3dd4890e-fc3f-4657-8bcf-2146f84a537b",
   "metadata": {},
   "outputs": [
    {
     "name": "stdout",
     "output_type": "stream",
     "text": [
      "(20453, 779) (8774, 778)\n"
     ]
    }
   ],
   "source": [
    "train_ = combine_team_vars(train_)\n",
    "test_ = combine_team_vars(test_)"
   ]
  },
  {
   "cell_type": "code",
   "execution_count": 273,
   "id": "23e666a0-3d67-43e3-a540-5252f932a1a9",
   "metadata": {},
   "outputs": [
    {
     "name": "stdout",
     "output_type": "stream",
     "text": [
      "(20453, 779) (8774, 778)\n"
     ]
    }
   ],
   "source": [
    "#\n",
    "train_new = train_.copy()\n",
    "test_new = test_.copy()\n",
    "\n",
    "print(train_new.shape, test_new.shape)"
   ]
  },
  {
   "cell_type": "code",
   "execution_count": 274,
   "id": "eebffc33-b238-4e51-8eac-fe46721abeb3",
   "metadata": {},
   "outputs": [
    {
     "data": {
      "text/html": [
       "<div>\n",
       "<style scoped>\n",
       "    .dataframe tbody tr th:only-of-type {\n",
       "        vertical-align: middle;\n",
       "    }\n",
       "\n",
       "    .dataframe tbody tr th {\n",
       "        vertical-align: top;\n",
       "    }\n",
       "\n",
       "    .dataframe thead th {\n",
       "        text-align: right;\n",
       "    }\n",
       "</style>\n",
       "<table border=\"1\" class=\"dataframe\">\n",
       "  <thead>\n",
       "    <tr style=\"text-align: right;\">\n",
       "      <th></th>\n",
       "      <th>scout_id</th>\n",
       "      <th>rating_num</th>\n",
       "      <th>winner</th>\n",
       "      <th>team</th>\n",
       "      <th>competitionId</th>\n",
       "      <th>player_position_1</th>\n",
       "      <th>player_position_2</th>\n",
       "      <th>player_height</th>\n",
       "      <th>player_weight</th>\n",
       "      <th>player_general_var_0</th>\n",
       "      <th>...</th>\n",
       "      <th>player_other_raw_total</th>\n",
       "      <th>player_other_derived_total</th>\n",
       "      <th>player_other_ratio_total</th>\n",
       "      <th>player_general_total</th>\n",
       "      <th>team1_other_raw_total</th>\n",
       "      <th>team1_offensive_derived_total</th>\n",
       "      <th>team1_other_ratio_total</th>\n",
       "      <th>team2_other_raw_total</th>\n",
       "      <th>team2_offensive_derived_total</th>\n",
       "      <th>team2_other_ratio_total</th>\n",
       "    </tr>\n",
       "    <tr>\n",
       "      <th>row_id</th>\n",
       "      <th></th>\n",
       "      <th></th>\n",
       "      <th></th>\n",
       "      <th></th>\n",
       "      <th></th>\n",
       "      <th></th>\n",
       "      <th></th>\n",
       "      <th></th>\n",
       "      <th></th>\n",
       "      <th></th>\n",
       "      <th></th>\n",
       "      <th></th>\n",
       "      <th></th>\n",
       "      <th></th>\n",
       "      <th></th>\n",
       "      <th></th>\n",
       "      <th></th>\n",
       "      <th></th>\n",
       "      <th></th>\n",
       "      <th></th>\n",
       "      <th></th>\n",
       "    </tr>\n",
       "  </thead>\n",
       "  <tbody>\n",
       "    <tr>\n",
       "      <th>1</th>\n",
       "      <td>13</td>\n",
       "      <td>7.0</td>\n",
       "      <td>winner</td>\n",
       "      <td>team1</td>\n",
       "      <td>8</td>\n",
       "      <td>7.0</td>\n",
       "      <td>7.0</td>\n",
       "      <td>0.317073</td>\n",
       "      <td>0.48</td>\n",
       "      <td>0.0</td>\n",
       "      <td>...</td>\n",
       "      <td>10.255639</td>\n",
       "      <td>7.753068</td>\n",
       "      <td>10.731</td>\n",
       "      <td>0.114754</td>\n",
       "      <td>21.197162</td>\n",
       "      <td>5.658911</td>\n",
       "      <td>17.075296</td>\n",
       "      <td>17.084909</td>\n",
       "      <td>4.576954</td>\n",
       "      <td>14.961230</td>\n",
       "    </tr>\n",
       "    <tr>\n",
       "      <th>3</th>\n",
       "      <td>16</td>\n",
       "      <td>6.5</td>\n",
       "      <td>loser</td>\n",
       "      <td>team2</td>\n",
       "      <td>8</td>\n",
       "      <td>3.0</td>\n",
       "      <td>9.0</td>\n",
       "      <td>0.463415</td>\n",
       "      <td>0.42</td>\n",
       "      <td>0.0</td>\n",
       "      <td>...</td>\n",
       "      <td>4.093913</td>\n",
       "      <td>3.455399</td>\n",
       "      <td>10.363</td>\n",
       "      <td>0.081967</td>\n",
       "      <td>22.983792</td>\n",
       "      <td>6.819127</td>\n",
       "      <td>18.647168</td>\n",
       "      <td>21.399097</td>\n",
       "      <td>6.435749</td>\n",
       "      <td>17.802988</td>\n",
       "    </tr>\n",
       "    <tr>\n",
       "      <th>4</th>\n",
       "      <td>4</td>\n",
       "      <td>8.5</td>\n",
       "      <td>loser</td>\n",
       "      <td>team1</td>\n",
       "      <td>5</td>\n",
       "      <td>11.0</td>\n",
       "      <td>11.0</td>\n",
       "      <td>0.682927</td>\n",
       "      <td>0.44</td>\n",
       "      <td>0.0</td>\n",
       "      <td>...</td>\n",
       "      <td>8.408279</td>\n",
       "      <td>7.916687</td>\n",
       "      <td>10.066</td>\n",
       "      <td>0.315574</td>\n",
       "      <td>17.339002</td>\n",
       "      <td>5.333986</td>\n",
       "      <td>16.656923</td>\n",
       "      <td>22.285279</td>\n",
       "      <td>6.228059</td>\n",
       "      <td>19.270134</td>\n",
       "    </tr>\n",
       "    <tr>\n",
       "      <th>5</th>\n",
       "      <td>13</td>\n",
       "      <td>8.0</td>\n",
       "      <td>loser</td>\n",
       "      <td>team2</td>\n",
       "      <td>4</td>\n",
       "      <td>17.0</td>\n",
       "      <td>17.0</td>\n",
       "      <td>0.682927</td>\n",
       "      <td>0.58</td>\n",
       "      <td>0.0</td>\n",
       "      <td>...</td>\n",
       "      <td>8.023802</td>\n",
       "      <td>3.026858</td>\n",
       "      <td>6.286</td>\n",
       "      <td>0.000000</td>\n",
       "      <td>20.714403</td>\n",
       "      <td>6.171453</td>\n",
       "      <td>18.016354</td>\n",
       "      <td>18.969641</td>\n",
       "      <td>5.477224</td>\n",
       "      <td>17.818653</td>\n",
       "    </tr>\n",
       "    <tr>\n",
       "      <th>7</th>\n",
       "      <td>11</td>\n",
       "      <td>3.5</td>\n",
       "      <td>draw</td>\n",
       "      <td>team1</td>\n",
       "      <td>5</td>\n",
       "      <td>10.0</td>\n",
       "      <td>10.0</td>\n",
       "      <td>0.731707</td>\n",
       "      <td>0.70</td>\n",
       "      <td>0.0</td>\n",
       "      <td>...</td>\n",
       "      <td>7.267916</td>\n",
       "      <td>8.868289</td>\n",
       "      <td>9.618</td>\n",
       "      <td>0.512295</td>\n",
       "      <td>18.588038</td>\n",
       "      <td>4.717440</td>\n",
       "      <td>18.057378</td>\n",
       "      <td>21.616654</td>\n",
       "      <td>5.764612</td>\n",
       "      <td>19.942547</td>\n",
       "    </tr>\n",
       "  </tbody>\n",
       "</table>\n",
       "<p>5 rows × 779 columns</p>\n",
       "</div>"
      ],
      "text/plain": [
       "        scout_id  rating_num  winner   team  competitionId  player_position_1  \\\n",
       "row_id                                                                          \n",
       "1             13         7.0  winner  team1              8                7.0   \n",
       "3             16         6.5   loser  team2              8                3.0   \n",
       "4              4         8.5   loser  team1              5               11.0   \n",
       "5             13         8.0   loser  team2              4               17.0   \n",
       "7             11         3.5    draw  team1              5               10.0   \n",
       "\n",
       "        player_position_2  player_height  player_weight  player_general_var_0  \\\n",
       "row_id                                                                          \n",
       "1                     7.0       0.317073           0.48                   0.0   \n",
       "3                     9.0       0.463415           0.42                   0.0   \n",
       "4                    11.0       0.682927           0.44                   0.0   \n",
       "5                    17.0       0.682927           0.58                   0.0   \n",
       "7                    10.0       0.731707           0.70                   0.0   \n",
       "\n",
       "        ...  player_other_raw_total  player_other_derived_total  \\\n",
       "row_id  ...                                                       \n",
       "1       ...               10.255639                    7.753068   \n",
       "3       ...                4.093913                    3.455399   \n",
       "4       ...                8.408279                    7.916687   \n",
       "5       ...                8.023802                    3.026858   \n",
       "7       ...                7.267916                    8.868289   \n",
       "\n",
       "        player_other_ratio_total  player_general_total  team1_other_raw_total  \\\n",
       "row_id                                                                          \n",
       "1                         10.731              0.114754              21.197162   \n",
       "3                         10.363              0.081967              22.983792   \n",
       "4                         10.066              0.315574              17.339002   \n",
       "5                          6.286              0.000000              20.714403   \n",
       "7                          9.618              0.512295              18.588038   \n",
       "\n",
       "        team1_offensive_derived_total  team1_other_ratio_total  \\\n",
       "row_id                                                           \n",
       "1                            5.658911                17.075296   \n",
       "3                            6.819127                18.647168   \n",
       "4                            5.333986                16.656923   \n",
       "5                            6.171453                18.016354   \n",
       "7                            4.717440                18.057378   \n",
       "\n",
       "        team2_other_raw_total  team2_offensive_derived_total  \\\n",
       "row_id                                                         \n",
       "1                   17.084909                       4.576954   \n",
       "3                   21.399097                       6.435749   \n",
       "4                   22.285279                       6.228059   \n",
       "5                   18.969641                       5.477224   \n",
       "7                   21.616654                       5.764612   \n",
       "\n",
       "        team2_other_ratio_total  \n",
       "row_id                           \n",
       "1                     14.961230  \n",
       "3                     17.802988  \n",
       "4                     19.270134  \n",
       "5                     17.818653  \n",
       "7                     19.942547  \n",
       "\n",
       "[5 rows x 779 columns]"
      ]
     },
     "execution_count": 274,
     "metadata": {},
     "output_type": "execute_result"
    }
   ],
   "source": [
    "train_new.head()"
   ]
  },
  {
   "cell_type": "code",
   "execution_count": 275,
   "id": "7f05e78c-a9d9-4772-bd0e-276ef20867a9",
   "metadata": {},
   "outputs": [
    {
     "data": {
      "text/plain": [
       "player_other_ratio_var_66         15228\n",
       "player_offensive_ratio_var_13     16282\n",
       "player_offensive_ratio_var_78     16611\n",
       "player_positional_ratio_var_22    16721\n",
       "player_offensive_ratio_var_72     17691\n",
       "player_other_ratio_var_34         17803\n",
       "player_other_ratio_var_33         17803\n",
       "player_other_ratio_var_32         17803\n",
       "player_other_ratio_var_14         17975\n",
       "player_defensive_ratio_var_16     18017\n",
       "dtype: int64"
      ]
     },
     "execution_count": 275,
     "metadata": {},
     "output_type": "execute_result"
    }
   ],
   "source": [
    "train_new.isna().sum().sort_values()[-10:]"
   ]
  },
  {
   "cell_type": "markdown",
   "id": "2b02d9ad-b7d9-4d17-a851-e3b233e97297",
   "metadata": {},
   "source": [
    "# 4. Features selection + encoding"
   ]
  },
  {
   "cell_type": "markdown",
   "id": "6508c8a2-9f60-43c4-a81c-8350d21db635",
   "metadata": {},
   "source": [
    "**Hint: Feature importance depends heavily on the value of the feature player_position_2**\n",
    "\n",
    "Based on this hint, I will try different ways to select important variables for prediction"
   ]
  },
  {
   "cell_type": "code",
   "execution_count": 276,
   "id": "ed1f18c9-5bae-4ac1-9199-52b612167405",
   "metadata": {},
   "outputs": [
    {
     "data": {
      "text/html": [
       "<div>\n",
       "<style scoped>\n",
       "    .dataframe tbody tr th:only-of-type {\n",
       "        vertical-align: middle;\n",
       "    }\n",
       "\n",
       "    .dataframe tbody tr th {\n",
       "        vertical-align: top;\n",
       "    }\n",
       "\n",
       "    .dataframe thead th {\n",
       "        text-align: right;\n",
       "    }\n",
       "</style>\n",
       "<table border=\"1\" class=\"dataframe\">\n",
       "  <thead>\n",
       "    <tr style=\"text-align: right;\">\n",
       "      <th></th>\n",
       "      <th>scout_id</th>\n",
       "      <th>rating_num</th>\n",
       "      <th>winner</th>\n",
       "      <th>team</th>\n",
       "      <th>competitionId</th>\n",
       "      <th>player_position_1</th>\n",
       "      <th>player_position_2</th>\n",
       "      <th>player_height</th>\n",
       "      <th>player_weight</th>\n",
       "      <th>player_general_var_0</th>\n",
       "      <th>...</th>\n",
       "      <th>player_other_raw_total</th>\n",
       "      <th>player_other_derived_total</th>\n",
       "      <th>player_other_ratio_total</th>\n",
       "      <th>player_general_total</th>\n",
       "      <th>team1_other_raw_total</th>\n",
       "      <th>team1_offensive_derived_total</th>\n",
       "      <th>team1_other_ratio_total</th>\n",
       "      <th>team2_other_raw_total</th>\n",
       "      <th>team2_offensive_derived_total</th>\n",
       "      <th>team2_other_ratio_total</th>\n",
       "    </tr>\n",
       "    <tr>\n",
       "      <th>row_id</th>\n",
       "      <th></th>\n",
       "      <th></th>\n",
       "      <th></th>\n",
       "      <th></th>\n",
       "      <th></th>\n",
       "      <th></th>\n",
       "      <th></th>\n",
       "      <th></th>\n",
       "      <th></th>\n",
       "      <th></th>\n",
       "      <th></th>\n",
       "      <th></th>\n",
       "      <th></th>\n",
       "      <th></th>\n",
       "      <th></th>\n",
       "      <th></th>\n",
       "      <th></th>\n",
       "      <th></th>\n",
       "      <th></th>\n",
       "      <th></th>\n",
       "      <th></th>\n",
       "    </tr>\n",
       "  </thead>\n",
       "  <tbody>\n",
       "    <tr>\n",
       "      <th>1</th>\n",
       "      <td>13</td>\n",
       "      <td>7.0</td>\n",
       "      <td>2.0</td>\n",
       "      <td>0.0</td>\n",
       "      <td>8</td>\n",
       "      <td>7.0</td>\n",
       "      <td>7.0</td>\n",
       "      <td>0.317073</td>\n",
       "      <td>0.48</td>\n",
       "      <td>0.0</td>\n",
       "      <td>...</td>\n",
       "      <td>10.255639</td>\n",
       "      <td>7.753068</td>\n",
       "      <td>10.731</td>\n",
       "      <td>0.114754</td>\n",
       "      <td>21.197162</td>\n",
       "      <td>5.658911</td>\n",
       "      <td>17.075296</td>\n",
       "      <td>17.084909</td>\n",
       "      <td>4.576954</td>\n",
       "      <td>14.961230</td>\n",
       "    </tr>\n",
       "    <tr>\n",
       "      <th>3</th>\n",
       "      <td>16</td>\n",
       "      <td>6.5</td>\n",
       "      <td>1.0</td>\n",
       "      <td>1.0</td>\n",
       "      <td>8</td>\n",
       "      <td>3.0</td>\n",
       "      <td>9.0</td>\n",
       "      <td>0.463415</td>\n",
       "      <td>0.42</td>\n",
       "      <td>0.0</td>\n",
       "      <td>...</td>\n",
       "      <td>4.093913</td>\n",
       "      <td>3.455399</td>\n",
       "      <td>10.363</td>\n",
       "      <td>0.081967</td>\n",
       "      <td>22.983792</td>\n",
       "      <td>6.819127</td>\n",
       "      <td>18.647168</td>\n",
       "      <td>21.399097</td>\n",
       "      <td>6.435749</td>\n",
       "      <td>17.802988</td>\n",
       "    </tr>\n",
       "    <tr>\n",
       "      <th>4</th>\n",
       "      <td>4</td>\n",
       "      <td>8.5</td>\n",
       "      <td>1.0</td>\n",
       "      <td>0.0</td>\n",
       "      <td>5</td>\n",
       "      <td>11.0</td>\n",
       "      <td>11.0</td>\n",
       "      <td>0.682927</td>\n",
       "      <td>0.44</td>\n",
       "      <td>0.0</td>\n",
       "      <td>...</td>\n",
       "      <td>8.408279</td>\n",
       "      <td>7.916687</td>\n",
       "      <td>10.066</td>\n",
       "      <td>0.315574</td>\n",
       "      <td>17.339002</td>\n",
       "      <td>5.333986</td>\n",
       "      <td>16.656923</td>\n",
       "      <td>22.285279</td>\n",
       "      <td>6.228059</td>\n",
       "      <td>19.270134</td>\n",
       "    </tr>\n",
       "    <tr>\n",
       "      <th>5</th>\n",
       "      <td>13</td>\n",
       "      <td>8.0</td>\n",
       "      <td>1.0</td>\n",
       "      <td>1.0</td>\n",
       "      <td>4</td>\n",
       "      <td>17.0</td>\n",
       "      <td>17.0</td>\n",
       "      <td>0.682927</td>\n",
       "      <td>0.58</td>\n",
       "      <td>0.0</td>\n",
       "      <td>...</td>\n",
       "      <td>8.023802</td>\n",
       "      <td>3.026858</td>\n",
       "      <td>6.286</td>\n",
       "      <td>0.000000</td>\n",
       "      <td>20.714403</td>\n",
       "      <td>6.171453</td>\n",
       "      <td>18.016354</td>\n",
       "      <td>18.969641</td>\n",
       "      <td>5.477224</td>\n",
       "      <td>17.818653</td>\n",
       "    </tr>\n",
       "    <tr>\n",
       "      <th>7</th>\n",
       "      <td>11</td>\n",
       "      <td>3.5</td>\n",
       "      <td>0.0</td>\n",
       "      <td>0.0</td>\n",
       "      <td>5</td>\n",
       "      <td>10.0</td>\n",
       "      <td>10.0</td>\n",
       "      <td>0.731707</td>\n",
       "      <td>0.70</td>\n",
       "      <td>0.0</td>\n",
       "      <td>...</td>\n",
       "      <td>7.267916</td>\n",
       "      <td>8.868289</td>\n",
       "      <td>9.618</td>\n",
       "      <td>0.512295</td>\n",
       "      <td>18.588038</td>\n",
       "      <td>4.717440</td>\n",
       "      <td>18.057378</td>\n",
       "      <td>21.616654</td>\n",
       "      <td>5.764612</td>\n",
       "      <td>19.942547</td>\n",
       "    </tr>\n",
       "  </tbody>\n",
       "</table>\n",
       "<p>5 rows × 779 columns</p>\n",
       "</div>"
      ],
      "text/plain": [
       "        scout_id  rating_num  winner  team  competitionId  player_position_1  \\\n",
       "row_id                                                                         \n",
       "1             13         7.0     2.0   0.0              8                7.0   \n",
       "3             16         6.5     1.0   1.0              8                3.0   \n",
       "4              4         8.5     1.0   0.0              5               11.0   \n",
       "5             13         8.0     1.0   1.0              4               17.0   \n",
       "7             11         3.5     0.0   0.0              5               10.0   \n",
       "\n",
       "        player_position_2  player_height  player_weight  player_general_var_0  \\\n",
       "row_id                                                                          \n",
       "1                     7.0       0.317073           0.48                   0.0   \n",
       "3                     9.0       0.463415           0.42                   0.0   \n",
       "4                    11.0       0.682927           0.44                   0.0   \n",
       "5                    17.0       0.682927           0.58                   0.0   \n",
       "7                    10.0       0.731707           0.70                   0.0   \n",
       "\n",
       "        ...  player_other_raw_total  player_other_derived_total  \\\n",
       "row_id  ...                                                       \n",
       "1       ...               10.255639                    7.753068   \n",
       "3       ...                4.093913                    3.455399   \n",
       "4       ...                8.408279                    7.916687   \n",
       "5       ...                8.023802                    3.026858   \n",
       "7       ...                7.267916                    8.868289   \n",
       "\n",
       "        player_other_ratio_total  player_general_total  team1_other_raw_total  \\\n",
       "row_id                                                                          \n",
       "1                         10.731              0.114754              21.197162   \n",
       "3                         10.363              0.081967              22.983792   \n",
       "4                         10.066              0.315574              17.339002   \n",
       "5                          6.286              0.000000              20.714403   \n",
       "7                          9.618              0.512295              18.588038   \n",
       "\n",
       "        team1_offensive_derived_total  team1_other_ratio_total  \\\n",
       "row_id                                                           \n",
       "1                            5.658911                17.075296   \n",
       "3                            6.819127                18.647168   \n",
       "4                            5.333986                16.656923   \n",
       "5                            6.171453                18.016354   \n",
       "7                            4.717440                18.057378   \n",
       "\n",
       "        team2_other_raw_total  team2_offensive_derived_total  \\\n",
       "row_id                                                         \n",
       "1                   17.084909                       4.576954   \n",
       "3                   21.399097                       6.435749   \n",
       "4                   22.285279                       6.228059   \n",
       "5                   18.969641                       5.477224   \n",
       "7                   21.616654                       5.764612   \n",
       "\n",
       "        team2_other_ratio_total  \n",
       "row_id                           \n",
       "1                     14.961230  \n",
       "3                     17.802988  \n",
       "4                     19.270134  \n",
       "5                     17.818653  \n",
       "7                     19.942547  \n",
       "\n",
       "[5 rows x 779 columns]"
      ]
     },
     "execution_count": 276,
     "metadata": {},
     "output_type": "execute_result"
    }
   ],
   "source": [
    "from sklearn.preprocessing import OrdinalEncoder\n",
    "\n",
    "oe = OrdinalEncoder()\n",
    "train_new[[\"winner\", \"team\"]] = oe.fit_transform(train_new[[\"winner\", \"team\"]])\n",
    "test_new[[\"winner\", \"team\"]] = oe.fit_transform(test_new[[\"winner\", \"team\"]])\n",
    "\n",
    "train_new.head()"
   ]
  },
  {
   "cell_type": "code",
   "execution_count": 277,
   "id": "825b5d3b-d408-4fbe-bd1f-77048a85efb2",
   "metadata": {},
   "outputs": [],
   "source": [
    "from sklearn.impute import SimpleImputer\n",
    "imputer = SimpleImputer(missing_values=np.nan, strategy ='mean')\n",
    "\n",
    "imputer = imputer.fit(train_new)\n",
    "\n",
    "# Convert to DataFrame\n",
    "train_new = pd.DataFrame(imputer.transform(train_new), index=train_new.index, columns=train_new.columns)\n",
    "\n",
    "imputer_ = SimpleImputer(missing_values=np.nan, strategy ='mean')\n",
    "imputer_ = imputer_.fit(test_new)\n",
    "\n",
    "# Convert to DataFrame\n",
    "test_new = pd.DataFrame(imputer_.transform(test_new), index=test_new.index, columns=test_new.columns)"
   ]
  },
  {
   "cell_type": "code",
   "execution_count": 278,
   "id": "3b4e4da0-2829-4ddf-b1ba-75034b76221a",
   "metadata": {},
   "outputs": [
    {
     "data": {
      "text/plain": [
       "False"
      ]
     },
     "execution_count": 278,
     "metadata": {},
     "output_type": "execute_result"
    }
   ],
   "source": [
    "train_new.isna().any().any()"
   ]
  },
  {
   "cell_type": "code",
   "execution_count": 279,
   "id": "62128de6-9513-4b8b-b877-dd330d1ae07a",
   "metadata": {},
   "outputs": [
    {
     "name": "stdout",
     "output_type": "stream",
     "text": [
      "(20453, 779)\n"
     ]
    }
   ],
   "source": [
    "print(train_new.shape)"
   ]
  },
  {
   "cell_type": "code",
   "execution_count": 229,
   "id": "33d798f2-84f8-4d5a-a63e-c3cf99422040",
   "metadata": {},
   "outputs": [
    {
     "data": {
      "text/plain": [
       "rating_num                          1.000000\n",
       "player_offensive_raw_total          0.236755\n",
       "player_offensive_derived_var_127    0.212403\n",
       "player_other_raw_total              0.211771\n",
       "player_offensive_derived_var_89     0.210556\n",
       "                                      ...   \n",
       "player_positional_raw_total         0.101644\n",
       "team1_other_ratio_var_16            0.101377\n",
       "team1_other_ratio_var_15            0.101345\n",
       "player_offensive_raw_var_32         0.100620\n",
       "player_physical_raw_var_193         0.100467\n",
       "Length: 103, dtype: float64"
      ]
     },
     "execution_count": 229,
     "metadata": {},
     "output_type": "execute_result"
    }
   ],
   "source": [
    "corr = train_new.corrwith(train_new.rating_num).abs().sort_values(ascending=False)\n",
    "corr_ = corr[corr>0.1]\n",
    "corr_"
   ]
  },
  {
   "cell_type": "code",
   "execution_count": 236,
   "id": "1569ae1a-b9d4-4d52-9e8a-7947c7aee359",
   "metadata": {},
   "outputs": [
    {
     "name": "stdout",
     "output_type": "stream",
     "text": [
      "Number of features: 103\n"
     ]
    }
   ],
   "source": [
    "s1 = corr_.index.values.tolist()\n",
    "\n",
    "number_of_features = len(s1)\n",
    "print(\"Number of features:\", number_of_features)"
   ]
  },
  {
   "cell_type": "markdown",
   "id": "b987762d-ca76-4188-9cd1-b3353390b35c",
   "metadata": {},
   "source": [
    "Next, test the correlation between **\"player_position_2\"** and the remaining variables"
   ]
  },
  {
   "cell_type": "code",
   "execution_count": 238,
   "id": "d3b3ce2b-2b72-4235-b5da-ab705db43cda",
   "metadata": {},
   "outputs": [
    {
     "name": "stdout",
     "output_type": "stream",
     "text": [
      "player_other_raw_var_144           0.389599\n",
      "player_other_raw_var_117           0.384745\n",
      "player_other_raw_var_160           0.383432\n",
      "player_other_raw_var_108           0.382698\n",
      "player_defensive_raw_total         0.380343\n",
      "                                     ...   \n",
      "player_physical_derived_var_35     0.102357\n",
      "player_physical_derived_var_106    0.102357\n",
      "player_other_raw_var_167           0.102065\n",
      "player_defensive_derived_var_29    0.100970\n",
      "player_offensive_ratio_var_12      0.100159\n",
      "Length: 212, dtype: float64\n"
     ]
    }
   ],
   "source": [
    "corr1 = train_new.corrwith(train_new.player_position_2).abs().sort_values(ascending=False)\n",
    "\n",
    "threshold = 0.1# Threshold = 0\n",
    "corr1 = corr1[corr1 > threshold]\n",
    "\n",
    "print(corr1[20:])# print first 20 highest corr "
   ]
  },
  {
   "cell_type": "code",
   "execution_count": 239,
   "id": "b38a3645-2f1a-4947-8d8d-4ced8dc8c9be",
   "metadata": {},
   "outputs": [
    {
     "name": "stdout",
     "output_type": "stream",
     "text": [
      "Number of features: 232\n"
     ]
    }
   ],
   "source": [
    "s2 = corr1.index.values.tolist()\n",
    "\n",
    "number_of_features = len(s2)\n",
    "print(\"Number of features:\", number_of_features)"
   ]
  },
  {
   "cell_type": "code",
   "execution_count": 243,
   "id": "df7333f6-9e0f-4edf-a546-67244430feb9",
   "metadata": {},
   "outputs": [
    {
     "data": {
      "text/plain": [
       "53"
      ]
     },
     "execution_count": 243,
     "metadata": {},
     "output_type": "execute_result"
    }
   ],
   "source": [
    "len(set(s1) & set(s2))"
   ]
  },
  {
   "cell_type": "code",
   "execution_count": 248,
   "id": "e3226ec5-567e-46fe-9037-3e4462060f0f",
   "metadata": {},
   "outputs": [
    {
     "name": "stdout",
     "output_type": "stream",
     "text": [
      "282\n"
     ]
    }
   ],
   "source": [
    "s = set(s1+s2)\n",
    "print(len(s))"
   ]
  },
  {
   "cell_type": "code",
   "execution_count": 249,
   "id": "f27b1901-3dfa-4526-a9ee-64eac859e2fe",
   "metadata": {
    "tags": []
   },
   "outputs": [],
   "source": [
    "#corr_target = train_new.corrwith(train_new.rating_num).abs().sort_values(ascending=False)\n",
    "#s = corr_target[corr_target>=0.01].index.values.tolist()\n",
    "\n",
    "if 'rating_num' not in s:\n",
    "    test_new = test_new[s]\n",
    "    s.append(\"rating_num\")\n",
    "    train_new = train_new[s]\n",
    "else:\n",
    "    train_new = train_new[s]\n",
    "    s.remove(\"rating_num\")\n",
    "    test_new = test_new[s]"
   ]
  },
  {
   "cell_type": "code",
   "execution_count": 281,
   "id": "5303c827-097c-41f7-9b86-2982feb9f7a7",
   "metadata": {},
   "outputs": [],
   "source": [
    "# Split features and target variable\n",
    "to_drop_ = [\"rating_num\"]\n",
    "\n",
    "X = train_new.drop(to_drop_, axis=1)\n",
    "y = train_new[\"rating_num\"]\n",
    "\n",
    "test_new = test_new.drop(to_drop_[1:], axis=1)"
   ]
  },
  {
   "cell_type": "code",
   "execution_count": 282,
   "id": "9d0f236d-b5b9-43bb-b342-de5a1c0f0032",
   "metadata": {},
   "outputs": [
    {
     "data": {
      "text/plain": [
       "((20453, 778), (20453,), (8774, 778))"
      ]
     },
     "execution_count": 282,
     "metadata": {},
     "output_type": "execute_result"
    }
   ],
   "source": [
    "X.shape, y.shape, test_new.shape"
   ]
  },
  {
   "cell_type": "markdown",
   "id": "bb67836c-f7b3-4c0d-808e-8f910c015722",
   "metadata": {},
   "source": [
    "Deal with remaining missing values "
   ]
  },
  {
   "cell_type": "code",
   "execution_count": null,
   "id": "80cc7b54-e440-4ba2-b94a-23be03184930",
   "metadata": {},
   "outputs": [],
   "source": []
  },
  {
   "cell_type": "markdown",
   "id": "dc8da058-1151-413d-af27-0bd0e224107c",
   "metadata": {},
   "source": [
    "Scaling data to range(0,1)"
   ]
  },
  {
   "cell_type": "markdown",
   "id": "387b64ac-0114-4a66-ad97-bfc2bae4f5f5",
   "metadata": {},
   "source": [
    "from sklearn.preprocessing import StandardScaler\n",
    "\n",
    "scaler = StandardScaler()\n",
    "scaler.fit(X)\n",
    "\n",
    "X = pd.DataFrame(scaler.transform(X), index=X.index, columns=X.columns)\n",
    "\n",
    "scaler_ = StandardScaler()\n",
    "scaler_.fit(test_new)\n",
    "test_new = pd.DataFrame(scaler_.transform(test_new), index=test_new.index, columns=test_new.columns)"
   ]
  },
  {
   "cell_type": "code",
   "execution_count": 283,
   "id": "e5f8368a-eae9-403f-98b5-a0b8f69ae89a",
   "metadata": {},
   "outputs": [
    {
     "name": "stdout",
     "output_type": "stream",
     "text": [
      "The shape of X_train is       (16362, 778)\n",
      "The shape of X_test is        (4091, 778)\n",
      "The shape of y_train is       (16362,)\n",
      "The shape of y_test is        (4091,)\n",
      "> Test shape:  (8774, 778)\n"
     ]
    }
   ],
   "source": [
    "# Split X to train set and validate set\n",
    "from sklearn.model_selection import train_test_split\n",
    "\n",
    "# Let 20% data for validate performance\n",
    "X_train,X_val, y_train,y_val = train_test_split(X, y, test_size=0.2, random_state=42)\n",
    "\n",
    "print(\"The shape of X_train is      \", X_train.shape)\n",
    "print(\"The shape of X_test is       \",X_val.shape)\n",
    "print(\"The shape of y_train is      \",y_train.shape)\n",
    "print(\"The shape of y_test is       \",y_val.shape)\n",
    "\n",
    "print(\"> Test shape: \", test_new.shape)"
   ]
  },
  {
   "cell_type": "code",
   "execution_count": 254,
   "id": "a5015a8b-b5d7-4e32-aca9-696fbc977253",
   "metadata": {},
   "outputs": [
    {
     "data": {
      "text/html": [
       "<div>\n",
       "<style scoped>\n",
       "    .dataframe tbody tr th:only-of-type {\n",
       "        vertical-align: middle;\n",
       "    }\n",
       "\n",
       "    .dataframe tbody tr th {\n",
       "        vertical-align: top;\n",
       "    }\n",
       "\n",
       "    .dataframe thead th {\n",
       "        text-align: right;\n",
       "    }\n",
       "</style>\n",
       "<table border=\"1\" class=\"dataframe\">\n",
       "  <thead>\n",
       "    <tr style=\"text-align: right;\">\n",
       "      <th></th>\n",
       "      <th>player_offensive_derived_var_151</th>\n",
       "      <th>player_positional_derived_var_85</th>\n",
       "      <th>player_positional_derived_var_64</th>\n",
       "      <th>player_physical_derived_var_36</th>\n",
       "      <th>player_other_raw_var_38</th>\n",
       "      <th>player_offensive_raw_var_32</th>\n",
       "      <th>player_other_raw_var_188</th>\n",
       "      <th>player_offensive_derived_var_153</th>\n",
       "      <th>player_offensive_ratio_total</th>\n",
       "      <th>player_other_raw_var_118</th>\n",
       "      <th>...</th>\n",
       "      <th>player_other_raw_var_63</th>\n",
       "      <th>player_other_raw_var_187</th>\n",
       "      <th>player_other_ratio_var_11</th>\n",
       "      <th>player_position_2</th>\n",
       "      <th>player_defensive_raw_var_94</th>\n",
       "      <th>player_physical_derived_var_74</th>\n",
       "      <th>player_offensive_derived_var_24</th>\n",
       "      <th>player_defensive_raw_var_42</th>\n",
       "      <th>player_other_derived_var_139</th>\n",
       "      <th>player_defensive_derived_var_2</th>\n",
       "    </tr>\n",
       "    <tr>\n",
       "      <th>row_id</th>\n",
       "      <th></th>\n",
       "      <th></th>\n",
       "      <th></th>\n",
       "      <th></th>\n",
       "      <th></th>\n",
       "      <th></th>\n",
       "      <th></th>\n",
       "      <th></th>\n",
       "      <th></th>\n",
       "      <th></th>\n",
       "      <th></th>\n",
       "      <th></th>\n",
       "      <th></th>\n",
       "      <th></th>\n",
       "      <th></th>\n",
       "      <th></th>\n",
       "      <th></th>\n",
       "      <th></th>\n",
       "      <th></th>\n",
       "      <th></th>\n",
       "      <th></th>\n",
       "    </tr>\n",
       "  </thead>\n",
       "  <tbody>\n",
       "    <tr>\n",
       "      <th>7464</th>\n",
       "      <td>0.276324</td>\n",
       "      <td>0.025487</td>\n",
       "      <td>0.079971</td>\n",
       "      <td>0.521168</td>\n",
       "      <td>0.176471</td>\n",
       "      <td>0.0</td>\n",
       "      <td>0.0</td>\n",
       "      <td>0.326909</td>\n",
       "      <td>5.813333</td>\n",
       "      <td>0.14</td>\n",
       "      <td>...</td>\n",
       "      <td>0.00</td>\n",
       "      <td>0.047458</td>\n",
       "      <td>0.667</td>\n",
       "      <td>16.0</td>\n",
       "      <td>0.153846</td>\n",
       "      <td>0.640721</td>\n",
       "      <td>0.170668</td>\n",
       "      <td>0.181818</td>\n",
       "      <td>0.575020</td>\n",
       "      <td>0.000000</td>\n",
       "    </tr>\n",
       "    <tr>\n",
       "      <th>8505</th>\n",
       "      <td>0.525680</td>\n",
       "      <td>0.020105</td>\n",
       "      <td>0.105347</td>\n",
       "      <td>0.546674</td>\n",
       "      <td>0.000000</td>\n",
       "      <td>0.0</td>\n",
       "      <td>0.0</td>\n",
       "      <td>0.469017</td>\n",
       "      <td>9.045083</td>\n",
       "      <td>0.06</td>\n",
       "      <td>...</td>\n",
       "      <td>0.04</td>\n",
       "      <td>0.155932</td>\n",
       "      <td>0.905</td>\n",
       "      <td>3.0</td>\n",
       "      <td>0.076923</td>\n",
       "      <td>0.826738</td>\n",
       "      <td>0.285392</td>\n",
       "      <td>0.090909</td>\n",
       "      <td>0.666635</td>\n",
       "      <td>0.000000</td>\n",
       "    </tr>\n",
       "    <tr>\n",
       "      <th>20116</th>\n",
       "      <td>0.386990</td>\n",
       "      <td>0.023795</td>\n",
       "      <td>0.089627</td>\n",
       "      <td>0.507663</td>\n",
       "      <td>0.000000</td>\n",
       "      <td>0.0</td>\n",
       "      <td>0.0</td>\n",
       "      <td>0.418804</td>\n",
       "      <td>4.610667</td>\n",
       "      <td>0.02</td>\n",
       "      <td>...</td>\n",
       "      <td>0.00</td>\n",
       "      <td>0.000000</td>\n",
       "      <td>0.837</td>\n",
       "      <td>1.0</td>\n",
       "      <td>0.307692</td>\n",
       "      <td>0.680787</td>\n",
       "      <td>0.189333</td>\n",
       "      <td>0.000000</td>\n",
       "      <td>0.537799</td>\n",
       "      <td>0.000000</td>\n",
       "    </tr>\n",
       "    <tr>\n",
       "      <th>9737</th>\n",
       "      <td>0.331524</td>\n",
       "      <td>0.018718</td>\n",
       "      <td>0.061161</td>\n",
       "      <td>0.345537</td>\n",
       "      <td>0.117647</td>\n",
       "      <td>0.0</td>\n",
       "      <td>0.0</td>\n",
       "      <td>0.352003</td>\n",
       "      <td>5.535000</td>\n",
       "      <td>0.10</td>\n",
       "      <td>...</td>\n",
       "      <td>0.16</td>\n",
       "      <td>0.000000</td>\n",
       "      <td>0.826</td>\n",
       "      <td>15.0</td>\n",
       "      <td>0.153846</td>\n",
       "      <td>0.578865</td>\n",
       "      <td>0.207480</td>\n",
       "      <td>0.000000</td>\n",
       "      <td>0.469973</td>\n",
       "      <td>0.000000</td>\n",
       "    </tr>\n",
       "    <tr>\n",
       "      <th>3451</th>\n",
       "      <td>0.302227</td>\n",
       "      <td>0.009943</td>\n",
       "      <td>0.074801</td>\n",
       "      <td>0.501484</td>\n",
       "      <td>0.117647</td>\n",
       "      <td>0.2</td>\n",
       "      <td>0.0</td>\n",
       "      <td>0.264373</td>\n",
       "      <td>4.988000</td>\n",
       "      <td>0.02</td>\n",
       "      <td>...</td>\n",
       "      <td>0.24</td>\n",
       "      <td>0.566102</td>\n",
       "      <td>0.500</td>\n",
       "      <td>11.0</td>\n",
       "      <td>0.076923</td>\n",
       "      <td>0.788473</td>\n",
       "      <td>0.035073</td>\n",
       "      <td>0.000000</td>\n",
       "      <td>0.618095</td>\n",
       "      <td>0.290164</td>\n",
       "    </tr>\n",
       "  </tbody>\n",
       "</table>\n",
       "<p>5 rows × 281 columns</p>\n",
       "</div>"
      ],
      "text/plain": [
       "        player_offensive_derived_var_151  player_positional_derived_var_85  \\\n",
       "row_id                                                                       \n",
       "7464                            0.276324                          0.025487   \n",
       "8505                            0.525680                          0.020105   \n",
       "20116                           0.386990                          0.023795   \n",
       "9737                            0.331524                          0.018718   \n",
       "3451                            0.302227                          0.009943   \n",
       "\n",
       "        player_positional_derived_var_64  player_physical_derived_var_36  \\\n",
       "row_id                                                                     \n",
       "7464                            0.079971                        0.521168   \n",
       "8505                            0.105347                        0.546674   \n",
       "20116                           0.089627                        0.507663   \n",
       "9737                            0.061161                        0.345537   \n",
       "3451                            0.074801                        0.501484   \n",
       "\n",
       "        player_other_raw_var_38  player_offensive_raw_var_32  \\\n",
       "row_id                                                         \n",
       "7464                   0.176471                          0.0   \n",
       "8505                   0.000000                          0.0   \n",
       "20116                  0.000000                          0.0   \n",
       "9737                   0.117647                          0.0   \n",
       "3451                   0.117647                          0.2   \n",
       "\n",
       "        player_other_raw_var_188  player_offensive_derived_var_153  \\\n",
       "row_id                                                               \n",
       "7464                         0.0                          0.326909   \n",
       "8505                         0.0                          0.469017   \n",
       "20116                        0.0                          0.418804   \n",
       "9737                         0.0                          0.352003   \n",
       "3451                         0.0                          0.264373   \n",
       "\n",
       "        player_offensive_ratio_total  player_other_raw_var_118  ...  \\\n",
       "row_id                                                          ...   \n",
       "7464                        5.813333                      0.14  ...   \n",
       "8505                        9.045083                      0.06  ...   \n",
       "20116                       4.610667                      0.02  ...   \n",
       "9737                        5.535000                      0.10  ...   \n",
       "3451                        4.988000                      0.02  ...   \n",
       "\n",
       "        player_other_raw_var_63  player_other_raw_var_187  \\\n",
       "row_id                                                      \n",
       "7464                       0.00                  0.047458   \n",
       "8505                       0.04                  0.155932   \n",
       "20116                      0.00                  0.000000   \n",
       "9737                       0.16                  0.000000   \n",
       "3451                       0.24                  0.566102   \n",
       "\n",
       "        player_other_ratio_var_11  player_position_2  \\\n",
       "row_id                                                 \n",
       "7464                        0.667               16.0   \n",
       "8505                        0.905                3.0   \n",
       "20116                       0.837                1.0   \n",
       "9737                        0.826               15.0   \n",
       "3451                        0.500               11.0   \n",
       "\n",
       "        player_defensive_raw_var_94  player_physical_derived_var_74  \\\n",
       "row_id                                                                \n",
       "7464                       0.153846                        0.640721   \n",
       "8505                       0.076923                        0.826738   \n",
       "20116                      0.307692                        0.680787   \n",
       "9737                       0.153846                        0.578865   \n",
       "3451                       0.076923                        0.788473   \n",
       "\n",
       "        player_offensive_derived_var_24  player_defensive_raw_var_42  \\\n",
       "row_id                                                                 \n",
       "7464                           0.170668                     0.181818   \n",
       "8505                           0.285392                     0.090909   \n",
       "20116                          0.189333                     0.000000   \n",
       "9737                           0.207480                     0.000000   \n",
       "3451                           0.035073                     0.000000   \n",
       "\n",
       "        player_other_derived_var_139  player_defensive_derived_var_2  \n",
       "row_id                                                                \n",
       "7464                        0.575020                        0.000000  \n",
       "8505                        0.666635                        0.000000  \n",
       "20116                       0.537799                        0.000000  \n",
       "9737                        0.469973                        0.000000  \n",
       "3451                        0.618095                        0.290164  \n",
       "\n",
       "[5 rows x 281 columns]"
      ]
     },
     "execution_count": 254,
     "metadata": {},
     "output_type": "execute_result"
    }
   ],
   "source": [
    "X_train.head()"
   ]
  },
  {
   "cell_type": "code",
   "execution_count": 949,
   "id": "c62969e2-f04c-4d1e-a1ce-49e66bb99679",
   "metadata": {},
   "outputs": [],
   "source": [
    "from sklearn.feature_selection import SelectKBest\n",
    "from sklearn.feature_selection import f_regression, mutual_info_regression\n",
    "\n",
    "# feature selection\n",
    "def select_features(X_train, y_train, X_val, test):\n",
    "# configure to select a subset of features\n",
    "    fs = SelectKBest(score_func=f_regression, k=int(0.9*len(s)))\n",
    "    # learn relationship from training data\n",
    "    fs.fit(X_train, y_train)\n",
    "    # transform train input data\n",
    "    X_train_fs = fs.transform(X_train)\n",
    "    # transform validate input data\n",
    "    X_val_fs = fs.transform(X_val)\n",
    "    \n",
    "    #tranform test data\n",
    "    X_test_fs = fs.transform(test_new)\n",
    "    \n",
    "    return X_train_fs, X_val_fs, X_test_fs, fs"
   ]
  },
  {
   "cell_type": "code",
   "execution_count": 284,
   "id": "41f831bf-f47f-41a7-b41c-3ca2e066c632",
   "metadata": {},
   "outputs": [],
   "source": [
    "#X_train_fs, X_val_fs, X_test_fs, fs = select_features(X_train, y_train, X_val, test_new)\n",
    "\n",
    "X_train_fs, X_val_fs, X_test_fs = X_train, X_val, test_new"
   ]
  },
  {
   "cell_type": "code",
   "execution_count": 891,
   "id": "3dcfa1f2-8376-4ace-9082-ff9946c9b723",
   "metadata": {},
   "outputs": [
    {
     "data": {
      "image/png": "[encoded data removed]",
      "text/plain": [
       "<Figure size 1152x540 with 1 Axes>"
      ]
     },
     "metadata": {
      "needs_background": "light"
     },
     "output_type": "display_data"
    }
   ],
   "source": [
    "plt.bar([i for i in range(len(fs.scores_))], fs.scores_)\n",
    "plt.show()"
   ]
  },
  {
   "cell_type": "markdown",
   "id": "72f32ddf-071a-4743-9e92-871f4e6e2c04",
   "metadata": {},
   "source": [
    "# 5. Build model"
   ]
  },
  {
   "cell_type": "code",
   "execution_count": 285,
   "id": "b8717cdb-f665-4b38-a53c-438e90c6abaf",
   "metadata": {},
   "outputs": [],
   "source": [
    "from sklearn.linear_model import LinearRegression, Ridge\n",
    "from sklearn.ensemble import GradientBoostingRegressor\n",
    "from sklearn.model_selection import cross_val_score\n",
    "from sklearn.metrics import r2_score, mean_squared_error\n",
    "import xgboost\n",
    "from xgboost import XGBRegressor"
   ]
  },
  {
   "cell_type": "code",
   "execution_count": 286,
   "id": "8c221477-5ffc-4314-adec-b217bff81153",
   "metadata": {},
   "outputs": [
    {
     "data": {
      "text/plain": [
       "(8774, 778)"
      ]
     },
     "execution_count": 286,
     "metadata": {},
     "output_type": "execute_result"
    }
   ],
   "source": [
    "X_test_fs.shape"
   ]
  },
  {
   "cell_type": "code",
   "execution_count": 287,
   "id": "ed4f8614-5d0d-44a8-a62b-1bba90a2eb66",
   "metadata": {},
   "outputs": [
    {
     "name": "stdout",
     "output_type": "stream",
     "text": [
      "======================================\n",
      "LinearRegression()\n",
      "R-squared: 0.17990865746528084\n",
      "======================================\n",
      "Ridge()\n",
      "R-squared: 0.18181137621458154\n"
     ]
    }
   ],
   "source": [
    "models = [LinearRegression(), Ridge()]\n",
    "    \n",
    "for model in models:\n",
    "    lr = model\n",
    "    lr.fit(X_train_fs, y_train)\n",
    "    y_pred = lr.predict(X_val_fs)\n",
    "    print(\"======================================\")\n",
    "    print(model)\n",
    "    print(\"R-squared:\", r2_score(y_val, y_pred))"
   ]
  },
  {
   "cell_type": "code",
   "execution_count": 315,
   "id": "e6c846e0-5bfb-43e5-a1c3-61aa8656b8d6",
   "metadata": {},
   "outputs": [],
   "source": [
    "evaluation = [(X_val_fs, y_val)]\n",
    "\n",
    "xgb = XGBRegressor()\n",
    "xgb.fit(X_train_fs, y_train, verbose=False)\n",
    "\n",
    "y_pred = xgb.predict(X_val_fs)"
   ]
  },
  {
   "cell_type": "code",
   "execution_count": 316,
   "id": "e0854dbd-5624-43fc-b134-e111ad5c0ce0",
   "metadata": {},
   "outputs": [
    {
     "name": "stdout",
     "output_type": "stream",
     "text": [
      "R-squared: 0.304378190007935\n"
     ]
    }
   ],
   "source": [
    "print(\"R-squared:\", r2_score(y_val, y_pred))"
   ]
  },
  {
   "cell_type": "code",
   "execution_count": 330,
   "id": "a6bd769e-de9d-4ddf-a468-6ddb2a5d062f",
   "metadata": {},
   "outputs": [
    {
     "name": "stdout",
     "output_type": "stream",
     "text": [
      "778 ---->> 650\n"
     ]
    }
   ],
   "source": [
    "fi = xgb.feature_importances_\n",
    "fi = fi * 100\n",
    "n = 650\n",
    "indx = np.argpartition(fi, -n)[-n:]\n",
    "top_fi = fi[indx]\n",
    "\n",
    "\"\"\"\n",
    "fi_ = np.where(fi>0.5, fi, 0)\n",
    "fi_ = np.nonzero(fi_)\n",
    "fi_ = fi_[0].tolist()\n",
    "print(len(fi_))\n",
    "\"\"\"\n",
    "print(len(fi),\"---->>\", len(top_fi))"
   ]
  },
  {
   "cell_type": "code",
   "execution_count": 331,
   "id": "3b84d42c-7ac0-495a-8cbb-9b2f4bdafa33",
   "metadata": {},
   "outputs": [
    {
     "name": "stdout",
     "output_type": "stream",
     "text": [
      "R-squared: 0.3319249904409173\n"
     ]
    }
   ],
   "source": [
    "X_train_fi = X_train_fs.iloc[:, indx]\n",
    "X_val_fi = X_val_fs.iloc[:, indx]\n",
    "X_test_fi = X_test_fs.iloc[:, indx]\n",
    "\n",
    "evaluation = [(X_val_fi, y_val)]\n",
    "\n",
    "xgb_ = XGBRegressor(n_estimators=150,learning_rate=0.25)\n",
    "\n",
    "xgb_.fit(X_train_fi, y_train, eval_set=evaluation, verbose=False)\n",
    "\n",
    "y_pred = xgb_.predict(X_val_fi)\n",
    "\n",
    "print(\"R-squared:\", r2_score(y_val, y_pred))"
   ]
  },
  {
   "cell_type": "code",
   "execution_count": 332,
   "id": "2e1c7856-5436-4c66-9917-874d2cb70785",
   "metadata": {},
   "outputs": [],
   "source": [
    "def custom_round(x, base=0.5):\n",
    "    return base * round(float(x)/base)\n",
    "\n",
    "vround = np.vectorize(custom_round)"
   ]
  },
  {
   "cell_type": "code",
   "execution_count": 333,
   "id": "04210706-f1e3-434b-b248-ce9efd460439",
   "metadata": {},
   "outputs": [
    {
     "data": {
      "text/plain": [
       "8774"
      ]
     },
     "execution_count": 333,
     "metadata": {},
     "output_type": "execute_result"
    }
   ],
   "source": [
    "y_pred_ = vround(xgb_.predict(X_test_fi))\n",
    "len(y_pred_)"
   ]
  },
  {
   "cell_type": "code",
   "execution_count": 337,
   "id": "8f4192f3-2571-420d-8696-dcf57bb59212",
   "metadata": {},
   "outputs": [],
   "source": [
    "X_test_fi.loc[:, \"rating_num\"] = 0\n",
    "X_test_fi.loc[:, \"rating_num\"] = y_pred_"
   ]
  },
  {
   "cell_type": "code",
   "execution_count": 336,
   "id": "2ba6e81d-7566-4258-ba16-8f3f46446d03",
   "metadata": {},
   "outputs": [],
   "source": [
    "result = X_test_fi[\"rating_num\"]\n",
    "result.to_csv(\"Notebook/csv/Sevilla/result_2.csv\")"
   ]
  },
  {
   "cell_type": "markdown",
   "id": "6e6474d3-d101-4aef-9d5e-ead8b9e55a84",
   "metadata": {},
   "source": [
    "> Tuning hyperparameters"
   ]
  },
  {
   "cell_type": "code",
   "execution_count": 338,
   "id": "17e1b851-e566-4127-8d1e-e32ec2f8e437",
   "metadata": {},
   "outputs": [],
   "source": [
    "#!pip install hyperopt"
   ]
  },
  {
   "cell_type": "code",
   "execution_count": 619,
   "id": "29f06069-0d60-49c9-9e48-e2a986cc081c",
   "metadata": {},
   "outputs": [],
   "source": [
    "from hyperopt import STATUS_OK, Trials, fmin, hp, tpe\n",
    "from hyperopt.pyll.base import scope\n",
    "\n",
    "#Define the space over which hyperopt will search for optimal hyperparameters.\n",
    "space = {'max_depth': scope.int(hp.quniform(\"max_depth\", 1, 5, 1)),\n",
    "        'gamma': hp.uniform ('gamma', 0,1),\n",
    "        'reg_alpha' : hp.uniform('reg_alpha', 0,50),\n",
    "        'reg_lambda' : hp.uniform('reg_lambda', 10,100),\n",
    "        'colsample_bytree' : hp.uniform('colsample_bytree', 0,1),\n",
    "        'min_child_weight' : hp.uniform('min_child_weight', 0, 5),\n",
    "        'n_estimators': 150,\n",
    "        'learning_rate': hp.uniform('learning_rate', 0.1, 0.5),\n",
    "        'random_state': 32,\n",
    "        'max_bin' : scope.int(hp.quniform('max_bin', 200, 550, 1))\n",
    "        }"
   ]
  },
  {
   "cell_type": "code",
   "execution_count": 620,
   "id": "08759df6-c2c6-46a9-b4cd-41d15e1eb413",
   "metadata": {},
   "outputs": [],
   "source": [
    "def objective(space):\n",
    "    xgb=XGBRegressor(**space)\n",
    "    \n",
    "    evaluation = [(X_train_fi, y_train), (X_val_fi, y_val)]\n",
    "    \n",
    "    xgb.fit(X_train_fi, y_train,\n",
    "            eval_set=evaluation,\n",
    "            verbose=False)\n",
    "\n",
    "    y_pred = xgb.predict(X_val_fi)\n",
    "    \n",
    "    rmse = mean_squared_error(y_val, y_pred, squared=False)\n",
    "    print (\"SCORE:\", rmse)\n",
    "    \n",
    "    #Specify what the loss is for each model.\n",
    "    return {'loss':rmse, 'status': STATUS_OK, 'model': xgb}"
   ]
  },
  {
   "cell_type": "code",
   "execution_count": 621,
   "id": "b3a52ea6-58b4-4895-9f19-a49438512d70",
   "metadata": {},
   "outputs": [
    {
     "name": "stdout",
     "output_type": "stream",
     "text": [
      "SCORE:                                                                                                                 \n",
      "1.6344643419383607                                                                                                     \n",
      "SCORE:                                                                                                                 \n",
      "1.5215509797964992                                                                                                     \n",
      "SCORE:                                                                                                                 \n",
      "1.6171020151014113                                                                                                     \n",
      "SCORE:                                                                                                                 \n",
      "1.6006428954998244                                                                                                     \n",
      "SCORE:                                                                                                                 \n",
      "1.5253070079735371                                                                                                     \n",
      "SCORE:                                                                                                                 \n",
      "1.531062400698595                                                                                                      \n",
      "SCORE:                                                                                                                 \n",
      "1.5681497945399907                                                                                                     \n",
      "SCORE:                                                                                                                 \n",
      "1.6106238480482424                                                                                                     \n",
      "SCORE:                                                                                                                 \n",
      "1.6151069027729268                                                                                                     \n",
      "SCORE:                                                                                                                 \n",
      "1.582903946495427                                                                                                      \n",
      "SCORE:                                                                                                                 \n",
      "1.5383688845541035                                                                                                     \n",
      "SCORE:                                                                                                                 \n",
      "1.5413255796562468                                                                                                     \n",
      "SCORE:                                                                                                                 \n",
      "1.561048015639106                                                                                                      \n",
      "SCORE:                                                                                                                 \n",
      "1.5709086665448524                                                                                                     \n",
      "SCORE:                                                                                                                 \n",
      "1.521506249525074                                                                                                      \n",
      "SCORE:                                                                                                                 \n",
      "1.6043608870309105                                                                                                     \n",
      "SCORE:                                                                                                                 \n",
      "1.636710890773983                                                                                                      \n",
      "SCORE:                                                                                                                 \n",
      "1.5213655219765623                                                                                                     \n",
      "SCORE:                                                                                                                 \n",
      "1.562677704650134                                                                                                      \n",
      "SCORE:                                                                                                                 \n",
      "1.5614115699387996                                                                                                     \n",
      "SCORE:                                                                                                                 \n",
      "1.5074432383004661                                                                                                     \n",
      "SCORE:                                                                                                                 \n",
      "1.550994208328571                                                                                                      \n",
      "SCORE:                                                                                                                 \n",
      "1.6687103197865292                                                                                                     \n",
      "SCORE:                                                                                                                 \n",
      "1.5431364079686194                                                                                                     \n",
      "SCORE:                                                                                                                 \n",
      "1.5167156205580943                                                                                                     \n",
      "SCORE:                                                                                                                 \n",
      "1.5098453253883763                                                                                                     \n",
      "SCORE:                                                                                                                 \n",
      "1.534593625744465                                                                                                      \n",
      "SCORE:                                                                                                                 \n",
      "1.5384803288843696                                                                                                     \n",
      "SCORE:                                                                                                                 \n",
      "1.5335105907821758                                                                                                     \n",
      "SCORE:                                                                                                                 \n",
      "1.5064692203199361                                                                                                     \n",
      "SCORE:                                                                                                                 \n",
      "1.5298255059604517                                                                                                     \n",
      "SCORE:                                                                                                                 \n",
      "1.6529043139510422                                                                                                     \n",
      "SCORE:                                                                                                                 \n",
      "1.5404797916560324                                                                                                     \n",
      "SCORE:                                                                                                                 \n",
      "1.5007901523594915                                                                                                     \n",
      "SCORE:                                                                                                                 \n",
      "1.6504173595419454                                                                                                     \n",
      "SCORE:                                                                                                                 \n",
      "1.5292307610265705                                                                                                     \n",
      "SCORE:                                                                                                                 \n",
      "1.5577965251195933                                                                                                     \n",
      "SCORE:                                                                                                                 \n",
      "1.5416459575016885                                                                                                     \n",
      "SCORE:                                                                                                                 \n",
      "1.5103469169476609                                                                                                     \n",
      "SCORE:                                                                                                                 \n",
      "1.533271162280757                                                                                                      \n",
      "SCORE:                                                                                                                 \n",
      "1.501049646679223                                                                                                      \n",
      "SCORE:                                                                                                                 \n",
      "1.527766040155216                                                                                                      \n",
      "SCORE:                                                                                                                 \n",
      "1.5049146384221326                                                                                                     \n",
      "SCORE:                                                                                                                 \n",
      "1.564036688772466                                                                                                      \n",
      "SCORE:                                                                                                                 \n",
      "1.5511488585683173                                                                                                     \n",
      "SCORE:                                                                                                                 \n",
      "1.5119151083545197                                                                                                     \n",
      "SCORE:                                                                                                                 \n",
      "1.544008659635125                                                                                                      \n",
      "SCORE:                                                                                                                 \n",
      "1.5946732606504355                                                                                                     \n",
      "SCORE:                                                                                                                 \n",
      "1.5066521199567775                                                                                                     \n",
      "SCORE:                                                                                                                 \n",
      "1.5859629158900632                                                                                                     \n",
      "SCORE:                                                                                                                 \n",
      "1.5863190526309898                                                                                                     \n",
      "SCORE:                                                                                                                 \n",
      "1.559429262434836                                                                                                      \n",
      "SCORE:                                                                                                                 \n",
      "1.5152650752898447                                                                                                     \n",
      "SCORE:                                                                                                                 \n",
      "1.577046470556047                                                                                                      \n",
      "SCORE:                                                                                                                 \n",
      "1.5143024128279448                                                                                                     \n",
      "SCORE:                                                                                                                 \n",
      "1.547582184122283                                                                                                      \n",
      "SCORE:                                                                                                                 \n",
      "1.6634852247662404                                                                                                     \n",
      "SCORE:                                                                                                                 \n",
      "1.602102661884397                                                                                                      \n",
      "SCORE:                                                                                                                 \n",
      "1.5021556370898959                                                                                                     \n",
      "SCORE:                                                                                                                 \n",
      "1.5472337914519536                                                                                                     \n",
      "SCORE:                                                                                                                 \n",
      "1.5430123380947638                                                                                                     \n",
      "SCORE:                                                                                                                 \n",
      "1.631027014026095                                                                                                      \n",
      "SCORE:                                                                                                                 \n",
      "1.5268180700980758                                                                                                     \n",
      "SCORE:                                                                                                                 \n",
      "1.5421204389135588                                                                                                     \n",
      "SCORE:                                                                                                                 \n",
      "1.52168818813245                                                                                                       \n",
      "SCORE:                                                                                                                 \n",
      "1.5043168848530755                                                                                                     \n",
      "SCORE:                                                                                                                 \n",
      "1.5092502481690113                                                                                                     \n",
      "SCORE:                                                                                                                 \n",
      "1.6498850665655387                                                                                                     \n",
      "SCORE:                                                                                                                 \n",
      "1.507759475023741                                                                                                      \n",
      "SCORE:                                                                                                                 \n",
      "1.5124401296998913                                                                                                     \n",
      "SCORE:                                                                                                                 \n",
      "1.5122864368105202                                                                                                     \n",
      "SCORE:                                                                                                                 \n",
      "1.5428126404344913                                                                                                     \n",
      "SCORE:                                                                                                                 \n",
      "1.510496063592238                                                                                                      \n",
      "SCORE:                                                                                                                 \n",
      "1.5366595244205097                                                                                                     \n",
      "SCORE:                                                                                                                 \n",
      "1.4950220422077307                                                                                                     \n",
      "SCORE:                                                                                                                 \n",
      "1.5024980850974519                                                                                                     \n",
      "SCORE:                                                                                                                 \n",
      "1.5327478734911144                                                                                                     \n",
      "SCORE:                                                                                                                 \n",
      "1.499818584967469                                                                                                      \n",
      "SCORE:                                                                                                                 \n",
      "1.5304673083209974                                                                                                     \n",
      "SCORE:                                                                                                                 \n",
      "1.5302945408675122                                                                                                     \n",
      "SCORE:                                                                                                                 \n",
      "1.511118459940447                                                                                                      \n",
      "SCORE:                                                                                                                 \n",
      "1.525678260067422                                                                                                      \n",
      "SCORE:                                                                                                                 \n",
      "1.5037841106262786                                                                                                     \n",
      "SCORE:                                                                                                                 \n",
      "1.6508433773967286                                                                                                     \n",
      "SCORE:                                                                                                                 \n",
      "1.598293056454077                                                                                                      \n",
      "SCORE:                                                                                                                 \n",
      "1.5534709617415778                                                                                                     \n",
      "SCORE:                                                                                                                 \n",
      "1.5109200970609769                                                                                                     \n",
      "SCORE:                                                                                                                 \n",
      "1.526002546014984                                                                                                      \n",
      "SCORE:                                                                                                                 \n",
      "1.5222351685352347                                                                                                     \n",
      "SCORE:                                                                                                                 \n",
      "1.5272656110770617                                                                                                     \n",
      "SCORE:                                                                                                                 \n",
      "1.4917957169539986                                                                                                     \n",
      "SCORE:                                                                                                                 \n",
      "1.501190562122796                                                                                                      \n",
      "SCORE:                                                                                                                 \n",
      "1.566395587047302                                                                                                      \n",
      "SCORE:                                                                                                                 \n",
      "1.5257254221588277                                                                                                     \n",
      "SCORE:                                                                                                                 \n",
      "1.6029586251440602                                                                                                     \n",
      "SCORE:                                                                                                                 \n",
      "1.5262836995752167                                                                                                     \n",
      "SCORE:                                                                                                                 \n",
      "1.509397065961217                                                                                                      \n",
      "SCORE:                                                                                                                 \n",
      "1.528332912374999                                                                                                      \n",
      "SCORE:                                                                                                                 \n",
      "1.4915330199894565                                                                                                     \n",
      "SCORE:                                                                                                                 \n",
      "1.5647476276900143                                                                                                     \n",
      "100%|██████████████████████████████████████████████| 100/100 [14:03<00:00,  8.43s/trial, best loss: 1.4915330199894565]\n"
     ]
    }
   ],
   "source": [
    "trials = Trials()\n",
    "\n",
    "best_hyperparams = fmin(fn = objective,\n",
    "                        space = space,\n",
    "                        algo = tpe.suggest,\n",
    "                        max_evals=100,\n",
    "                        trials = trials\n",
    "                       )"
   ]
  },
  {
   "cell_type": "code",
   "execution_count": 624,
   "id": "12e4fa70-abe9-4b5a-8113-c4df055f941f",
   "metadata": {},
   "outputs": [
    {
     "name": "stdout",
     "output_type": "stream",
     "text": [
      "XGBRegressor(base_score=0.5, booster='gbtree', callbacks=None,\n",
      "             colsample_bylevel=1, colsample_bynode=1,\n",
      "             colsample_bytree=0.7805763719946387, early_stopping_rounds=None,\n",
      "             enable_categorical=False, eval_metric=None,\n",
      "             gamma=0.4688557121494644, gpu_id=-1, grow_policy='depthwise',\n",
      "             importance_type=None, interaction_constraints='',\n",
      "             learning_rate=0.32322329831814367, max_bin=357,\n",
      "             max_cat_to_onehot=4, max_delta_step=0, max_depth=5, max_leaves=0,\n",
      "             min_child_weight=4.089630589437734, missing=nan,\n",
      "             monotone_constraints='()', n_estimators=150, n_jobs=0,\n",
      "             num_parallel_tree=1, predictor='auto', random_state=32,\n",
      "             reg_alpha=7.920620694460221, reg_lambda=30.47206759063701, ...)\n"
     ]
    }
   ],
   "source": [
    "best_model = trials.results[np.argmin([r['loss'] for r in trials.results])]['model']\n",
    "\n",
    "#Examine model hyperparameters\n",
    "print(best_model)"
   ]
  },
  {
   "cell_type": "code",
   "execution_count": 625,
   "id": "5fe77903-79b0-4051-a080-ee7d81cb14ef",
   "metadata": {},
   "outputs": [
    {
     "name": "stdout",
     "output_type": "stream",
     "text": [
      "RMSE_Best_Model: 1.4915330199894565\n",
      "R2-score 0.32051780396826524\n"
     ]
    }
   ],
   "source": [
    "xgb_ypred_best = best_model.predict(X_val_fi)\n",
    "print('RMSE_Best_Model:', mean_squared_error(y_val, xgb_ypred_best, squared=False))\n",
    "print('R2-score', r2_score(y_val, xgb_ypred_best))"
   ]
  },
  {
   "cell_type": "code",
   "execution_count": 626,
   "id": "a4b3d9b2-5e6c-4b72-a64c-9b72f0cde1ae",
   "metadata": {},
   "outputs": [
    {
     "name": "stderr",
     "output_type": "stream",
     "text": [
      "D:\\Users\\thanh_cv54t9u\\anaconda3\\lib\\site-packages\\pandas\\core\\indexing.py:1667: SettingWithCopyWarning: \n",
      "A value is trying to be set on a copy of a slice from a DataFrame.\n",
      "Try using .loc[row_indexer,col_indexer] = value instead\n",
      "\n",
      "See the caveats in the documentation: https://pandas.pydata.org/pandas-docs/stable/user_guide/indexing.html#returning-a-view-versus-a-copy\n",
      "  self.obj[key] = value\n"
     ]
    }
   ],
   "source": [
    "X_test_fi.loc[:,\"rating_num\"] = vround(best_model.predict(X_test_fi))"
   ]
  },
  {
   "cell_type": "code",
   "execution_count": 627,
   "id": "c0c26a64-6379-4f14-87bc-bf6584314532",
   "metadata": {},
   "outputs": [],
   "source": [
    "result = X_test_fi[\"rating_num\"]\n",
    "result.to_csv(\"Notebook/csv/Sevilla/result_2.csv\")"
   ]
  },
  {
   "cell_type": "code",
   "execution_count": null,
   "id": "d1968bb6-a9e7-48bd-85ae-53cdf70faa8a",
   "metadata": {},
   "outputs": [],
   "source": []
  }
 ],
 "metadata": {
  "kernelspec": {
   "display_name": "Python 3 (ipykernel)",
   "language": "python",
   "name": "python3"
  },
  "language_info": {
   "codemirror_mode": {
    "name": "ipython",
    "version": 3
   },
   "file_extension": ".py",
   "mimetype": "text/x-python",
   "name": "python",
   "nbconvert_exporter": "python",
   "pygments_lexer": "ipython3",
   "version": "3.8.8"
  },
  "widgets": {
   "application/vnd.jupyter.widget-state+json": {
    "state": {},
    "version_major": 2,
    "version_minor": 0
   }
  }
 },
 "nbformat": 4,
 "nbformat_minor": 5
}
